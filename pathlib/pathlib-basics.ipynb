{
 "cells": [
  {
   "cell_type": "markdown",
   "metadata": {},
   "source": [
    "**Uso básico da biblioteca pathlib para navegar sistemas de arquivos em python**\n",
    "\n",
    "Baseado [nesta postagem em zetcode](https://zetcode.com/python/pathlib/).\n",
    "\n",
    "Mas a melhor referência sobre essa biblioteca que eu pude encontrar é a do [RealPython](https://realpython.com/python-pathlib/).\n",
    "\n",
    "Marco A. A. Barbosa - 2021-02-17"
   ]
  },
  {
   "cell_type": "code",
   "execution_count": 46,
   "metadata": {},
   "outputs": [],
   "source": [
    "import pathlib\n",
    "from pathlib import Path"
   ]
  },
  {
   "cell_type": "markdown",
   "metadata": {},
   "source": [
    "Pegando o nome de um diretório"
   ]
  },
  {
   "cell_type": "code",
   "execution_count": 14,
   "metadata": {},
   "outputs": [
    {
     "data": {
      "text/plain": [
       "PosixPath('/home/aureliobarbosa/Dropbox/mycode/pystudies/pathlib')"
      ]
     },
     "execution_count": 14,
     "metadata": {},
     "output_type": "execute_result"
    }
   ],
   "source": [
    "cwd = Path.cwd()    # current working directory (?)\n",
    "cwd"
   ]
  },
  {
   "cell_type": "markdown",
   "metadata": {},
   "source": [
    "Como criar um arquivo vazio."
   ]
  },
  {
   "cell_type": "code",
   "execution_count": 15,
   "metadata": {},
   "outputs": [],
   "source": [
    "Path('teste1.txt').touch()\n",
    "Path('teste2.txt').touch()"
   ]
  },
  {
   "cell_type": "markdown",
   "metadata": {},
   "source": [
    "Path na verdade é um gerador de objetos no formato PosixPath.\n",
    "\n",
    "Abaixo indico como listar todos os arquivos de um diretório. Note que já estou transformando para o formato texto chamando a propriedade `path.name`."
   ]
  },
  {
   "cell_type": "code",
   "execution_count": 43,
   "metadata": {},
   "outputs": [],
   "source": [
    "path = Path();\n",
    "path, type(path);"
   ]
  },
  {
   "cell_type": "code",
   "execution_count": 42,
   "metadata": {},
   "outputs": [
    {
     "data": {
      "text/plain": [
       "([PosixPath('teste.txt'),\n",
       "  PosixPath('teste1.txt'),\n",
       "  PosixPath('pH4-batch-10.txt'),\n",
       "  PosixPath('teste2.txt')],\n",
       " ['teste.txt', 'teste1.txt', 'pH4-batch-10.txt', 'teste2.txt'])"
      ]
     },
     "execution_count": 42,
     "metadata": {},
     "output_type": "execute_result"
    }
   ],
   "source": [
    "files = [file for file in path.glob(\"*.txt\")]\n",
    "filenames = [file.name for file in files]\n",
    "files, filenames"
   ]
  },
  {
   "cell_type": "markdown",
   "metadata": {},
   "source": [
    "Você também pode extrair a extensão (sufixo) do arquivo usando a propriedade `path.suffix`"
   ]
  },
  {
   "cell_type": "code",
   "execution_count": 47,
   "metadata": {},
   "outputs": [
    {
     "data": {
      "text/plain": [
       "'.txt'"
      ]
     },
     "execution_count": 47,
     "metadata": {},
     "output_type": "execute_result"
    }
   ],
   "source": [
    " files[0].suffix"
   ]
  }
 ],
 "metadata": {
  "kernelspec": {
   "display_name": "Python 3 (ipykernel)",
   "language": "python",
   "name": "python3"
  },
  "language_info": {
   "codemirror_mode": {
    "name": "ipython",
    "version": 3
   },
   "file_extension": ".py",
   "mimetype": "text/x-python",
   "name": "python",
   "nbconvert_exporter": "python",
   "pygments_lexer": "ipython3",
   "version": "3.8.10"
  }
 },
 "nbformat": 4,
 "nbformat_minor": 4
}

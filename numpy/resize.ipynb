{
 "cells": [
  {
   "cell_type": "code",
   "execution_count": 2,
   "metadata": {},
   "outputs": [],
   "source": [
    "import numpy as np\n",
    "import matplotlib.pyplot as plt"
   ]
  },
  {
   "cell_type": "code",
   "execution_count": 9,
   "metadata": {},
   "outputs": [
    {
     "name": "stdout",
     "output_type": "stream",
     "text": [
      "[1. 2. 3. 4. 5. 6.] (6,)\n"
     ]
    }
   ],
   "source": [
    "a = np.linspace(1,6,6)\n",
    "print(a, a.shape)"
   ]
  },
  {
   "cell_type": "code",
   "execution_count": 10,
   "metadata": {},
   "outputs": [
    {
     "name": "stdout",
     "output_type": "stream",
     "text": [
      "b[0] \n",
      " [[1. 2. 3. 4. 5. 6.]\n",
      " [1. 2. 3. 4. 5. 6.]\n",
      " [1. 2. 3. 4. 5. 6.]\n",
      " [1. 2. 3. 4. 5. 6.]] \n",
      "\n",
      "b[9] \n",
      " [[1. 2. 3. 4. 5. 6.]\n",
      " [1. 2. 3. 4. 5. 6.]\n",
      " [1. 2. 3. 4. 5. 6.]\n",
      " [1. 2. 3. 4. 5. 6.]]\n"
     ]
    }
   ],
   "source": [
    "b = np.resize(a,(10, 4,6))\n",
    "print('b[0] \\n', b[0],'\\n\\nb[9] \\n',b[9])"
   ]
  },
  {
   "cell_type": "code",
   "execution_count": 11,
   "metadata": {},
   "outputs": [
    {
     "name": "stdout",
     "output_type": "stream",
     "text": [
      "[[1.]\n",
      " [2.]\n",
      " [3.]\n",
      " [4.]\n",
      " [5.]\n",
      " [6.]] (6, 1)\n"
     ]
    }
   ],
   "source": [
    "b = np.resize(a, (6,1))\n",
    "print(b, b.shape)"
   ]
  },
  {
   "cell_type": "code",
   "execution_count": 12,
   "metadata": {},
   "outputs": [
    {
     "data": {
      "text/plain": [
       "array([[ 1.,  2.,  3.,  4.,  5.,  6.],\n",
       "       [ 2.,  4.,  6.,  8., 10., 12.],\n",
       "       [ 3.,  6.,  9., 12., 15., 18.],\n",
       "       [ 4.,  8., 12., 16., 20., 24.],\n",
       "       [ 5., 10., 15., 20., 25., 30.],\n",
       "       [ 6., 12., 18., 24., 30., 36.]])"
      ]
     },
     "execution_count": 12,
     "metadata": {},
     "output_type": "execute_result"
    }
   ],
   "source": [
    "a*b"
   ]
  },
  {
   "cell_type": "code",
   "execution_count": null,
   "metadata": {},
   "outputs": [],
   "source": []
  },
  {
   "cell_type": "markdown",
   "metadata": {},
   "source": [
    "**Now some \"concrete\" example**\n",
    "\n",
    "Let us consider a set of random number and lets sequencially reduce their values up to zero, through an exponencial decay!"
   ]
  },
  {
   "cell_type": "code",
   "execution_count": 80,
   "metadata": {},
   "outputs": [
    {
     "name": "stdout",
     "output_type": "stream",
     "text": [
      "[[0.16291832 0.4237554  0.83228316]] (1, 3)\n"
     ]
    }
   ],
   "source": [
    "L = 3                       # number of points\n",
    "x = np.random.random(L)     # random numbers between [0 and 1)\n",
    "x.sort(axis=0)\n",
    "x = np.resize(x,(1,L))      # to make the object 2D\n",
    "print(x,x.shape)"
   ]
  },
  {
   "cell_type": "markdown",
   "metadata": {},
   "source": [
    "Now let us create a \"time variable\", to carry on the values of time and, then reshape it so that it is possible to use broadcasting rules to make a produte a create an evolution of x in time."
   ]
  },
  {
   "cell_type": "code",
   "execution_count": 87,
   "metadata": {},
   "outputs": [],
   "source": [
    "r = 20 # sample size\n",
    "t = np.linspace(0.0,5.0,r)\n",
    "t = np.resize(t,(r,1))\n",
    "scale = np.exp(-t)\n"
   ]
  },
  {
   "cell_type": "markdown",
   "metadata": {},
   "source": [
    "Note that now the variable `t` now is ortogonal to `x`! Let us now use broadcasting rules and see what happens!"
   ]
  },
  {
   "cell_type": "code",
   "execution_count": 88,
   "metadata": {},
   "outputs": [
    {
     "data": {
      "text/plain": [
       "array([[0.16291832, 0.4237554 , 0.83228316],\n",
       "       [0.12522237, 0.3257071 , 0.63970992],\n",
       "       [0.09624848, 0.25034516, 0.49169417],\n",
       "       [0.07397856, 0.19242043, 0.37792623],\n",
       "       [0.05686144, 0.14789829, 0.29048186],\n",
       "       [0.04370487, 0.11367766, 0.22327032],\n",
       "       [0.03359246, 0.08737499, 0.17161015],\n",
       "       [0.02581985, 0.06715821, 0.13190309],\n",
       "       [0.01984567, 0.05161918, 0.10138342],\n",
       "       [0.01525379, 0.03967556, 0.07792538],\n",
       "       [0.01172438, 0.03049545, 0.05989504],\n",
       "       [0.0090116 , 0.02343943, 0.04603656],\n",
       "       [0.0069265 , 0.01801603, 0.03538465],\n",
       "       [0.00532385, 0.01384749, 0.02719736],\n",
       "       [0.00409202, 0.01064346, 0.02090445],\n",
       "       [0.00314521, 0.00818078, 0.01606759],\n",
       "       [0.00241747, 0.00628792, 0.01234988],\n",
       "       [0.00185812, 0.00483302, 0.00949237],\n",
       "       [0.00142819, 0.00371476, 0.00729603],\n",
       "       [0.00109774, 0.00285524, 0.00560788]])"
      ]
     },
     "execution_count": 88,
     "metadata": {},
     "output_type": "execute_result"
    }
   ],
   "source": [
    "data = x*scale\n",
    "data"
   ]
  },
  {
   "cell_type": "markdown",
   "metadata": {},
   "source": [
    "It should be interesting to plot all this to check whether it is OK!"
   ]
  },
  {
   "cell_type": "code",
   "execution_count": 89,
   "metadata": {},
   "outputs": [
    {
     "data": {
      "text/plain": [
       "array([[0.        ],\n",
       "       [0.26315789],\n",
       "       [0.52631579],\n",
       "       [0.78947368],\n",
       "       [1.05263158],\n",
       "       [1.31578947],\n",
       "       [1.57894737],\n",
       "       [1.84210526],\n",
       "       [2.10526316],\n",
       "       [2.36842105],\n",
       "       [2.63157895],\n",
       "       [2.89473684],\n",
       "       [3.15789474],\n",
       "       [3.42105263],\n",
       "       [3.68421053],\n",
       "       [3.94736842],\n",
       "       [4.21052632],\n",
       "       [4.47368421],\n",
       "       [4.73684211],\n",
       "       [5.        ]])"
      ]
     },
     "execution_count": 89,
     "metadata": {},
     "output_type": "execute_result"
    }
   ],
   "source": [
    "t"
   ]
  },
  {
   "cell_type": "code",
   "execution_count": 90,
   "metadata": {},
   "outputs": [
    {
     "data": {
      "image/png": "[encoded data removed]",
      "text/plain": [
       "<Figure size 432x288 with 1 Axes>"
      ]
     },
     "metadata": {
      "needs_background": "light"
     },
     "output_type": "display_data"
    }
   ],
   "source": [
    "for i in range(L):\n",
    "    vx = data[:,i]    \n",
    "    vt = np.resize(t,(r))\n",
    "    vx, vt\n",
    "    plt.plot( vt, vx)\n",
    "\n",
    "plt.show()"
   ]
  },
  {
   "cell_type": "code",
   "execution_count": null,
   "metadata": {},
   "outputs": [],
   "source": []
  },
  {
   "cell_type": "code",
   "execution_count": null,
   "metadata": {},
   "outputs": [],
   "source": []
  }
 ],
 "metadata": {
  "kernelspec": {
   "display_name": "Python 3 (ipykernel)",
   "language": "python",
   "name": "python3"
  },
  "language_info": {
   "codemirror_mode": {
    "name": "ipython",
    "version": 3
   },
   "file_extension": ".py",
   "mimetype": "text/x-python",
   "name": "python",
   "nbconvert_exporter": "python",
   "pygments_lexer": "ipython3",
   "version": "3.10.6"
  }
 },
 "nbformat": 4,
 "nbformat_minor": 4
}

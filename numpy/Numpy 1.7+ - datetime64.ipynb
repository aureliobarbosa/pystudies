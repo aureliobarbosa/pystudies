{
 "cells": [
  {
   "cell_type": "markdown",
   "id": "flush-scope",
   "metadata": {},
   "source": [
    "## Numpy datetime64 Module\n",
    "\n",
    "This is an study of the numpy methods and classes related to `datetime64` numpy molecule.\n",
    "\n",
    "My initial intention was to use it to develop a function for generating fixed time intervals for sampling points in a planet orbit for the Copernico cooperations (PedeBrito e Licia). Nevertheless, soon I realized that the Pandas package had all functions needed for this. \n",
    "\n",
    "I will keep the work done here as it is without further descriptions. \n"
   ]
  },
  {
   "cell_type": "code",
   "execution_count": 2,
   "id": "crude-bangladesh",
   "metadata": {},
   "outputs": [],
   "source": [
    "import numpy as np"
   ]
  },
  {
   "cell_type": "code",
   "execution_count": 3,
   "id": "popular-aruba",
   "metadata": {},
   "outputs": [],
   "source": [
    "d1 = np.datetime64('2020')\n",
    "d2 = np.datetime64('2021-02')\n",
    "d3 = np.datetime64('2021-02-28T01')\n",
    "dates = np.asarray([d1,d2,d3])"
   ]
  },
  {
   "cell_type": "code",
   "execution_count": 4,
   "id": "random-elimination",
   "metadata": {},
   "outputs": [
    {
     "data": {
      "text/plain": [
       "array(['2020-01-01T00', '2021-02-01T00', '2021-02-28T01'],\n",
       "      dtype='datetime64[h]')"
      ]
     },
     "execution_count": 4,
     "metadata": {},
     "output_type": "execute_result"
    }
   ],
   "source": [
    "dates"
   ]
  },
  {
   "cell_type": "markdown",
   "id": "conceptual-hammer",
   "metadata": {},
   "source": [
    "Information about datetime objects (particularly, the resolution)"
   ]
  },
  {
   "cell_type": "code",
   "execution_count": 5,
   "id": "dedicated-deviation",
   "metadata": {},
   "outputs": [
    {
     "data": {
      "text/plain": [
       "(('Y', 1), ('M', 1), ('h', 1))"
      ]
     },
     "execution_count": 5,
     "metadata": {},
     "output_type": "execute_result"
    }
   ],
   "source": [
    "np.datetime_data(d1), np.datetime_data(d2), np.datetime_data(d3)"
   ]
  },
  {
   "cell_type": "markdown",
   "id": "scenic-characterization",
   "metadata": {},
   "source": [
    "Comparisons"
   ]
  },
  {
   "cell_type": "code",
   "execution_count": 6,
   "id": "interracial-plastic",
   "metadata": {},
   "outputs": [],
   "source": [
    "d1 = np.datetime64('2020')\n",
    "d2 = np.datetime64('2021-02')"
   ]
  },
  {
   "cell_type": "code",
   "execution_count": 7,
   "id": "recent-kruger",
   "metadata": {},
   "outputs": [
    {
     "data": {
      "text/plain": [
       "False"
      ]
     },
     "execution_count": 7,
     "metadata": {},
     "output_type": "execute_result"
    }
   ],
   "source": [
    "d1 >= d2"
   ]
  },
  {
   "cell_type": "markdown",
   "id": "prospective-feedback",
   "metadata": {},
   "source": [
    "Operations"
   ]
  },
  {
   "cell_type": "code",
   "execution_count": 8,
   "id": "plain-cabin",
   "metadata": {},
   "outputs": [],
   "source": [
    "year = np.timedelta64(365,\"D\")\n",
    "today = np.datetime64(\"2021-01-01\")"
   ]
  },
  {
   "cell_type": "code",
   "execution_count": 9,
   "id": "opposite-mapping",
   "metadata": {},
   "outputs": [],
   "source": [
    "next_year = today + year"
   ]
  },
  {
   "cell_type": "code",
   "execution_count": 11,
   "id": "expressed-gilbert",
   "metadata": {},
   "outputs": [
    {
     "data": {
      "text/plain": [
       "array(['2021-01-01', '2021-01-02', '2021-01-03', '2021-01-04',\n",
       "       '2021-01-05', '2021-01-06', '2021-01-07', '2021-01-08',\n",
       "       '2021-01-09', '2021-01-10', '2021-01-11', '2021-01-12',\n",
       "       '2021-01-13', '2021-01-14', '2021-01-15', '2021-01-16',\n",
       "       '2021-01-17', '2021-01-18', '2021-01-19', '2021-01-20',\n",
       "       '2021-01-21', '2021-01-22', '2021-01-23', '2021-01-24',\n",
       "       '2021-01-25', '2021-01-26', '2021-01-27', '2021-01-28',\n",
       "       '2021-01-29', '2021-01-30', '2021-01-31', '2021-02-01',\n",
       "       '2021-02-02', '2021-02-03', '2021-02-04', '2021-02-05',\n",
       "       '2021-02-06', '2021-02-07', '2021-02-08', '2021-02-09',\n",
       "       '2021-02-10', '2021-02-11', '2021-02-12', '2021-02-13',\n",
       "       '2021-02-14', '2021-02-15', '2021-02-16', '2021-02-17',\n",
       "       '2021-02-18', '2021-02-19', '2021-02-20', '2021-02-21',\n",
       "       '2021-02-22', '2021-02-23', '2021-02-24', '2021-02-25',\n",
       "       '2021-02-26', '2021-02-27', '2021-02-28', '2021-03-01',\n",
       "       '2021-03-02', '2021-03-03', '2021-03-04', '2021-03-05',\n",
       "       '2021-03-06', '2021-03-07', '2021-03-08', '2021-03-09',\n",
       "       '2021-03-10', '2021-03-11', '2021-03-12', '2021-03-13',\n",
       "       '2021-03-14', '2021-03-15', '2021-03-16', '2021-03-17',\n",
       "       '2021-03-18', '2021-03-19', '2021-03-20', '2021-03-21',\n",
       "       '2021-03-22', '2021-03-23', '2021-03-24', '2021-03-25',\n",
       "       '2021-03-26', '2021-03-27', '2021-03-28', '2021-03-29',\n",
       "       '2021-03-30', '2021-03-31', '2021-04-01', '2021-04-02',\n",
       "       '2021-04-03', '2021-04-04', '2021-04-05', '2021-04-06',\n",
       "       '2021-04-07', '2021-04-08', '2021-04-09', '2021-04-10',\n",
       "       '2021-04-11', '2021-04-12', '2021-04-13', '2021-04-14',\n",
       "       '2021-04-15', '2021-04-16', '2021-04-17', '2021-04-18',\n",
       "       '2021-04-19', '2021-04-20', '2021-04-21', '2021-04-22',\n",
       "       '2021-04-23', '2021-04-24', '2021-04-25', '2021-04-26',\n",
       "       '2021-04-27', '2021-04-28', '2021-04-29', '2021-04-30',\n",
       "       '2021-05-01', '2021-05-02', '2021-05-03', '2021-05-04',\n",
       "       '2021-05-05', '2021-05-06', '2021-05-07', '2021-05-08',\n",
       "       '2021-05-09', '2021-05-10', '2021-05-11', '2021-05-12',\n",
       "       '2021-05-13', '2021-05-14', '2021-05-15', '2021-05-16',\n",
       "       '2021-05-17', '2021-05-18', '2021-05-19', '2021-05-20',\n",
       "       '2021-05-21', '2021-05-22', '2021-05-23', '2021-05-24',\n",
       "       '2021-05-25', '2021-05-26', '2021-05-27', '2021-05-28',\n",
       "       '2021-05-29', '2021-05-30', '2021-05-31', '2021-06-01',\n",
       "       '2021-06-02', '2021-06-03', '2021-06-04', '2021-06-05',\n",
       "       '2021-06-06', '2021-06-07', '2021-06-08', '2021-06-09',\n",
       "       '2021-06-10', '2021-06-11', '2021-06-12', '2021-06-13',\n",
       "       '2021-06-14', '2021-06-15', '2021-06-16', '2021-06-17',\n",
       "       '2021-06-18', '2021-06-19', '2021-06-20', '2021-06-21',\n",
       "       '2021-06-22', '2021-06-23', '2021-06-24', '2021-06-25',\n",
       "       '2021-06-26', '2021-06-27', '2021-06-28', '2021-06-29',\n",
       "       '2021-06-30', '2021-07-01', '2021-07-02', '2021-07-03',\n",
       "       '2021-07-04', '2021-07-05', '2021-07-06', '2021-07-07',\n",
       "       '2021-07-08', '2021-07-09', '2021-07-10', '2021-07-11',\n",
       "       '2021-07-12', '2021-07-13', '2021-07-14', '2021-07-15',\n",
       "       '2021-07-16', '2021-07-17', '2021-07-18', '2021-07-19',\n",
       "       '2021-07-20', '2021-07-21', '2021-07-22', '2021-07-23',\n",
       "       '2021-07-24', '2021-07-25', '2021-07-26', '2021-07-27',\n",
       "       '2021-07-28', '2021-07-29', '2021-07-30', '2021-07-31',\n",
       "       '2021-08-01', '2021-08-02', '2021-08-03', '2021-08-04',\n",
       "       '2021-08-05', '2021-08-06', '2021-08-07', '2021-08-08',\n",
       "       '2021-08-09', '2021-08-10', '2021-08-11', '2021-08-12',\n",
       "       '2021-08-13', '2021-08-14', '2021-08-15', '2021-08-16',\n",
       "       '2021-08-17', '2021-08-18', '2021-08-19', '2021-08-20',\n",
       "       '2021-08-21', '2021-08-22', '2021-08-23', '2021-08-24',\n",
       "       '2021-08-25', '2021-08-26', '2021-08-27', '2021-08-28',\n",
       "       '2021-08-29', '2021-08-30', '2021-08-31', '2021-09-01',\n",
       "       '2021-09-02', '2021-09-03', '2021-09-04', '2021-09-05',\n",
       "       '2021-09-06', '2021-09-07', '2021-09-08', '2021-09-09',\n",
       "       '2021-09-10', '2021-09-11', '2021-09-12', '2021-09-13',\n",
       "       '2021-09-14', '2021-09-15', '2021-09-16', '2021-09-17',\n",
       "       '2021-09-18', '2021-09-19', '2021-09-20', '2021-09-21',\n",
       "       '2021-09-22', '2021-09-23', '2021-09-24', '2021-09-25',\n",
       "       '2021-09-26', '2021-09-27', '2021-09-28', '2021-09-29',\n",
       "       '2021-09-30', '2021-10-01', '2021-10-02', '2021-10-03',\n",
       "       '2021-10-04', '2021-10-05', '2021-10-06', '2021-10-07',\n",
       "       '2021-10-08', '2021-10-09', '2021-10-10', '2021-10-11',\n",
       "       '2021-10-12', '2021-10-13', '2021-10-14', '2021-10-15',\n",
       "       '2021-10-16', '2021-10-17', '2021-10-18', '2021-10-19',\n",
       "       '2021-10-20', '2021-10-21', '2021-10-22', '2021-10-23',\n",
       "       '2021-10-24', '2021-10-25', '2021-10-26', '2021-10-27',\n",
       "       '2021-10-28', '2021-10-29', '2021-10-30', '2021-10-31',\n",
       "       '2021-11-01', '2021-11-02', '2021-11-03', '2021-11-04',\n",
       "       '2021-11-05', '2021-11-06', '2021-11-07', '2021-11-08',\n",
       "       '2021-11-09', '2021-11-10', '2021-11-11', '2021-11-12',\n",
       "       '2021-11-13', '2021-11-14', '2021-11-15', '2021-11-16',\n",
       "       '2021-11-17', '2021-11-18', '2021-11-19', '2021-11-20',\n",
       "       '2021-11-21', '2021-11-22', '2021-11-23', '2021-11-24',\n",
       "       '2021-11-25', '2021-11-26', '2021-11-27', '2021-11-28',\n",
       "       '2021-11-29', '2021-11-30', '2021-12-01', '2021-12-02',\n",
       "       '2021-12-03', '2021-12-04', '2021-12-05', '2021-12-06',\n",
       "       '2021-12-07', '2021-12-08', '2021-12-09', '2021-12-10',\n",
       "       '2021-12-11', '2021-12-12', '2021-12-13', '2021-12-14',\n",
       "       '2021-12-15', '2021-12-16', '2021-12-17', '2021-12-18',\n",
       "       '2021-12-19', '2021-12-20', '2021-12-21', '2021-12-22',\n",
       "       '2021-12-23', '2021-12-24', '2021-12-25', '2021-12-26',\n",
       "       '2021-12-27', '2021-12-28', '2021-12-29', '2021-12-30',\n",
       "       '2021-12-31'], dtype='datetime64[D]')"
      ]
     },
     "execution_count": 11,
     "metadata": {},
     "output_type": "execute_result"
    }
   ],
   "source": [
    "np.arange(today,next_year)"
   ]
  },
  {
   "cell_type": "code",
   "execution_count": null,
   "id": "intimate-brake",
   "metadata": {},
   "outputs": [],
   "source": []
  },
  {
   "cell_type": "code",
   "execution_count": null,
   "id": "objective-mayor",
   "metadata": {},
   "outputs": [],
   "source": []
  },
  {
   "cell_type": "markdown",
   "id": "similar-hazard",
   "metadata": {},
   "source": [
    "## Implementing time list"
   ]
  },
  {
   "cell_type": "code",
   "execution_count": 83,
   "id": "terminal-pierce",
   "metadata": {},
   "outputs": [],
   "source": [
    "# Move to production\n",
    "def my_time_list(initial_time: str, final_time: str, unit: str = 'D'):\n",
    "    start = np.datetime64(initial_time)\n",
    "    stop =  np.datetime64(final_time)\n",
    "    step =  np.timedelta64(1, unit) # test \n",
    "    return np.arange(start, stop, step)\n",
    "    "
   ]
  },
  {
   "cell_type": "code",
   "execution_count": 86,
   "id": "scenic-mustang",
   "metadata": {},
   "outputs": [],
   "source": [
    "ts = my_time_list('2021-02-03','2022-02-03T05', unit = 'h')"
   ]
  },
  {
   "cell_type": "markdown",
   "id": "standard-funds",
   "metadata": {},
   "source": [
    "**ATTENTION**: do not use of finish to implement this function, use `pandas.date_range()` instead!\n",
    "\n",
    "\n",
    "I know two errors to deal with here. \n",
    "\n",
    "1) if the timeunit of start time or stop_time is 'D' or lower, it is  not possible to produce identical time intervals of 'M' or 'Y'. Note that np.arange already deals with this exceptions, so we just need to catch it. \n",
    "\n",
    "2) when trying to make an step that moves np.arange to the left of (start,stop] interval.\n"
   ]
  },
  {
   "cell_type": "code",
   "execution_count": null,
   "id": "broadband-separation",
   "metadata": {},
   "outputs": [],
   "source": [
    "def time_range(start_time: str, stop_time: str, unit: str = 'D'):\n",
    "    start = np.datetime64(start_time)\n",
    "    stop =  np.datetime64(stop_time)\n",
    "    step =  np.timedelta64(1, unit) # test\n",
    "    \n",
    "    # check sintax...\n",
    "    try:\n",
    "        data = np.arange(start, stop, step)\n",
    "    except:    \n",
    "        print('Know error: bla bla bla')\n",
    "        data = None    \n",
    "    \n",
    "    return data"
   ]
  },
  {
   "cell_type": "code",
   "execution_count": null,
   "id": "automated-excerpt",
   "metadata": {},
   "outputs": [],
   "source": []
  },
  {
   "cell_type": "code",
   "execution_count": null,
   "id": "broken-yeast",
   "metadata": {},
   "outputs": [],
   "source": []
  },
  {
   "cell_type": "code",
   "execution_count": null,
   "id": "cooperative-eclipse",
   "metadata": {},
   "outputs": [],
   "source": []
  },
  {
   "cell_type": "code",
   "execution_count": null,
   "id": "patient-project",
   "metadata": {},
   "outputs": [],
   "source": []
  }
 ],
 "metadata": {
  "kernelspec": {
   "display_name": "Python 3 (ipykernel)",
   "language": "python",
   "name": "python3"
  },
  "language_info": {
   "codemirror_mode": {
    "name": "ipython",
    "version": 3
   },
   "file_extension": ".py",
   "mimetype": "text/x-python",
   "name": "python",
   "nbconvert_exporter": "python",
   "pygments_lexer": "ipython3",
   "version": "3.10.6"
  }
 },
 "nbformat": 4,
 "nbformat_minor": 5
}

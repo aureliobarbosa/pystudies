{
 "cells": [
  {
   "cell_type": "markdown",
   "metadata": {},
   "source": [
    "Numpy - genfromtxt()\n",
    "\n",
    "Referência básica:\n",
    "Manual do numpy - [basics.io.genfromtxt](https://www.numpy.org/devdocs/user/basics.io.genfromtxt.html)"
   ]
  },
  {
   "cell_type": "code",
   "execution_count": 1,
   "metadata": {},
   "outputs": [],
   "source": [
    "import numpy as np\n",
    "import matplotlib.pyplot as plt"
   ]
  },
  {
   "cell_type": "markdown",
   "metadata": {},
   "source": [
    "## Duas Colunas\n",
    "Uso básico, duas colunas separadas por texto."
   ]
  },
  {
   "cell_type": "code",
   "execution_count": 2,
   "metadata": {},
   "outputs": [
    {
     "name": "stdout",
     "output_type": "stream",
     "text": [
      "# y = 2.0*x\n",
      "# x y\n",
      "\n",
      "0.0  0.0\n",
      "1.0  2.0\n",
      "2.0  4.0\n",
      "3.0  6.0\n",
      "10.0 20.0\n"
     ]
    }
   ],
   "source": [
    "!more dados2colunas.dat"
   ]
  },
  {
   "cell_type": "code",
   "execution_count": 3,
   "metadata": {},
   "outputs": [
    {
     "data": {
      "text/plain": [
       "(array([[ 0.,  0.],\n",
       "        [ 1.,  2.],\n",
       "        [ 2.,  4.],\n",
       "        [ 3.,  6.],\n",
       "        [10., 20.]]), array([[ 0.,  1.,  2.,  3., 10.],\n",
       "        [ 0.,  2.,  4.,  6., 20.]]))"
      ]
     },
     "execution_count": 3,
     "metadata": {},
     "output_type": "execute_result"
    }
   ],
   "source": [
    "nome_arq = 'dados2colunas.dat'\n",
    "dados = np.genfromtxt(nome_arq)\n",
    "dados, dados.T"
   ]
  },
  {
   "cell_type": "markdown",
   "metadata": {},
   "source": [
    "**Transposição de matriz** \n",
    "\n",
    "Os dados do tipo ndarray aceitam transposição de maneira simples, veja a diferença acima. Como as operações de manipulação são feitas com conjuntos $x = [x1,...,xn]$ e $y = [y1,...,yn]$, uma forma simples de extrair os dados em x e y é transpondo a matrix, como abaixo.\n",
    "\n",
    "*Observação*: Para que ocorra uma transposição bem sucedida é necessário que os dados estejam todos no mesmo formato."
   ]
  },
  {
   "cell_type": "code",
   "execution_count": 4,
   "metadata": {},
   "outputs": [],
   "source": [
    "x = dados.T[0]   \n",
    "y = dados.T[1]"
   ]
  },
  {
   "cell_type": "code",
   "execution_count": 5,
   "metadata": {},
   "outputs": [
    {
     "data": {
      "text/plain": [
       "[<matplotlib.lines.Line2D at 0x7f51ad67c550>]"
      ]
     },
     "execution_count": 5,
     "metadata": {},
     "output_type": "execute_result"
    },
    {
     "data": {
      "image/png": "[encoded data removed]",
      "text/plain": [
       "<Figure size 432x288 with 1 Axes>"
      ]
     },
     "metadata": {
      "needs_background": "light"
     },
     "output_type": "display_data"
    }
   ],
   "source": [
    "plt.plot(x,y,'o-')"
   ]
  },
  {
   "cell_type": "markdown",
   "metadata": {},
   "source": [
    "## Três colunas\n",
    "Uso básico, três colunas, separadas por espaço vazio, com alguns valores faltando."
   ]
  },
  {
   "cell_type": "code",
   "execution_count": 6,
   "metadata": {},
   "outputs": [
    {
     "name": "stdout",
     "output_type": "stream",
     "text": [
      "# y = 2.0*x\n",
      "# z = 1.0 + x\n",
      "# x y z\n",
      "2019-04-11 12:20   # This is the header up to the 4th row - data format is diffe\n",
      "rent from the data (I use the edition date just as an example...)\n",
      "\n",
      "0  0.0  1.0\n",
      "1  2.0  2.0\n",
      "2  4.0  3.0\n",
      "3  6.0   - \n",
      "10 20.0 11.0\n"
     ]
    }
   ],
   "source": [
    "!more dados3colunas.dat"
   ]
  },
  {
   "cell_type": "markdown",
   "metadata": {},
   "source": [
    "A função `np.genfromtxt` tem muitos argumentos, três são interessante no contexto desse projeto:\n",
    "\n",
    "- `dtype=type` ou `dtype=(type1, type2, ...,  typen)`: especifica o tipo de dados ou tipo de dados em cada coluna, individualmente.\n",
    "- `skip_header=n`: que pula n linhas do, referente ao cabeçalho no início do arquivo.\n",
    "- `filling_values`: preenche os valores inválidos com um valor padrão. Note que estou usando o tipo de dados \"Not a Number\" `np.nan` para especificar um valor faltando."
   ]
  },
  {
   "cell_type": "code",
   "execution_count": 26,
   "metadata": {},
   "outputs": [
    {
     "data": {
      "text/plain": [
       "array([[ 0.,  0.,  1.],\n",
       "       [ 1.,  2.,  2.],\n",
       "       [ 2.,  4.,  3.],\n",
       "       [ 3.,  6., nan],\n",
       "       [10., 20., 11.]], dtype=float32)"
      ]
     },
     "execution_count": 26,
     "metadata": {},
     "output_type": "execute_result"
    }
   ],
   "source": [
    "nome_arq = 'dados3colunas.dat'\n",
    "dados = np.genfromtxt(nome_arq, dtype=np.float32, skip_header=4,filling_values=np.nan)\n",
    "dados"
   ]
  },
  {
   "cell_type": "code",
   "execution_count": 25,
   "metadata": {},
   "outputs": [
    {
     "data": {
      "text/plain": [
       "array([[ 0.,  1.,  2.,  3., 10.],\n",
       "       [ 0.,  2.,  4.,  6., 20.],\n",
       "       [ 1.,  2.,  3., nan, 11.]], dtype=float32)"
      ]
     },
     "execution_count": 25,
     "metadata": {},
     "output_type": "execute_result"
    }
   ],
   "source": [
    "dados.T"
   ]
  },
  {
   "cell_type": "code",
   "execution_count": 27,
   "metadata": {},
   "outputs": [],
   "source": [
    "x = dados.T[0]\n",
    "z = dados.T[2]"
   ]
  },
  {
   "cell_type": "markdown",
   "metadata": {},
   "source": [
    "Note que como o quarto ponto está faltando, o Matplotlib por padrão une com uma linha apenas os dados contínuos... por isso tem um ponto solto no final..."
   ]
  },
  {
   "cell_type": "code",
   "execution_count": 28,
   "metadata": {},
   "outputs": [
    {
     "data": {
      "text/plain": [
       "[<matplotlib.lines.Line2D at 0x7f51ad5ac630>]"
      ]
     },
     "execution_count": 28,
     "metadata": {},
     "output_type": "execute_result"
    },
    {
     "data": {
      "image/png": "[encoded data removed]",
      "text/plain": [
       "<Figure size 432x288 with 1 Axes>"
      ]
     },
     "metadata": {
      "needs_background": "light"
     },
     "output_type": "display_data"
    }
   ],
   "source": [
    "plt.plot(x,z,'o-')"
   ]
  },
  {
   "cell_type": "code",
   "execution_count": null,
   "metadata": {},
   "outputs": [],
   "source": []
  }
 ],
 "metadata": {
  "kernelspec": {
   "display_name": "Python 3",
   "language": "python",
   "name": "python3"
  },
  "language_info": {
   "codemirror_mode": {
    "name": "ipython",
    "version": 3
   },
   "file_extension": ".py",
   "mimetype": "text/x-python",
   "name": "python",
   "nbconvert_exporter": "python",
   "pygments_lexer": "ipython3",
   "version": "3.7.2"
  }
 },
 "nbformat": 4,
 "nbformat_minor": 2
}

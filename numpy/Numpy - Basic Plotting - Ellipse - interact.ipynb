{
 "cells": [
  {
   "cell_type": "markdown",
   "metadata": {},
   "source": [
    "# Basic Plotting - Interactive Ellipse\n",
    "\n",
    "This notebook shows how to use numpy, matplotlib and the interactive function to draw an ellipse whose eccentricity is interactively connected to a slider!"
   ]
  },
  {
   "cell_type": "code",
   "execution_count": 3,
   "metadata": {},
   "outputs": [
    {
     "name": "stdin",
     "output_type": "stream",
     "text": [
      "Once deleted, variables cannot be recovered. Proceed (y/[n])?  y\n"
     ]
    }
   ],
   "source": [
    "%reset"
   ]
  },
  {
   "cell_type": "code",
   "execution_count": 4,
   "metadata": {},
   "outputs": [],
   "source": [
    "import numpy as np\n",
    "import matplotlib.pyplot as plt\n",
    "from ipywidgets import interactive\n",
    "from numpy import pi as pi"
   ]
  },
  {
   "cell_type": "code",
   "execution_count": 5,
   "metadata": {},
   "outputs": [
    {
     "data": {
      "application/vnd.jupyter.widget-view+json": {
       "model_id": "ba7710fad8b0439e975febf3cda6a044",
       "version_major": 2,
       "version_minor": 0
      },
      "text/plain": [
       "interactive(children=(FloatSlider(value=0.0, description='ecc', max=1.0, step=0.01), Output(layout=Layout(heig…"
      ]
     },
     "metadata": {},
     "output_type": "display_data"
    }
   ],
   "source": [
    "def ellipse_plot(ecc=0.0):\n",
    "    \n",
    "    a = 1.0\n",
    "    b = a*np.sqrt(1-ecc**2)\n",
    "    \n",
    "    theta = np.linspace(0.0,2*pi,100)\n",
    "    x = a*np.cos(theta)\n",
    "    y = b*np.sin(theta)\n",
    "    \n",
    "    plt.figure(2)    \n",
    "    plt.plot(x, y)\n",
    "    plt.ylim(-1.1, 1.1)\n",
    "    plt.xlim(-1.1, 1.1)\n",
    "    plt.show()\n",
    "\n",
    "interactive_plot = interactive(ellipse_plot, ecc=(0.0,1.0,0.01))\n",
    "output = interactive_plot.children[-1]\n",
    "output.layout.height = '350px'\n",
    "interactive_plot\n"
   ]
  },
  {
   "cell_type": "code",
   "execution_count": null,
   "metadata": {},
   "outputs": [],
   "source": []
  }
 ],
 "metadata": {
  "kernelspec": {
   "display_name": "Python 3 (ipykernel)",
   "language": "python",
   "name": "python3"
  },
  "language_info": {
   "codemirror_mode": {
    "name": "ipython",
    "version": 3
   },
   "file_extension": ".py",
   "mimetype": "text/x-python",
   "name": "python",
   "nbconvert_exporter": "python",
   "pygments_lexer": "ipython3",
   "version": "3.10.6"
  }
 },
 "nbformat": 4,
 "nbformat_minor": 4
}

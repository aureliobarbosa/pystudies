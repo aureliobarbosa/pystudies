{
 "cells": [
  {
   "cell_type": "markdown",
   "metadata": {},
   "source": [
    "# Different strategies for creating **numpy arrays**\n",
    "\n",
    "- Arrays are data types with fixed size;\n",
    "- they can be multidimensional;\n",
    "- used for numeric computation.\n"
   ]
  },
  {
   "cell_type": "code",
   "execution_count": 1,
   "metadata": {},
   "outputs": [
    {
     "ename": "ModuleNotFoundError",
     "evalue": "No module named 'numpy'",
     "output_type": "error",
     "traceback": [
      "\u001b[0;31m---------------------------------------------------------------------------\u001b[0m",
      "\u001b[0;31mModuleNotFoundError\u001b[0m                       Traceback (most recent call last)",
      "Cell \u001b[0;32mIn [1], line 1\u001b[0m\n\u001b[0;32m----> 1\u001b[0m \u001b[38;5;28;01mimport\u001b[39;00m \u001b[38;5;21;01mnumpy\u001b[39;00m \u001b[38;5;28;01mas\u001b[39;00m \u001b[38;5;21;01mnp\u001b[39;00m\n",
      "\u001b[0;31mModuleNotFoundError\u001b[0m: No module named 'numpy'"
     ]
    }
   ],
   "source": [
    "import numpy as np"
   ]
  },
  {
   "cell_type": "markdown",
   "metadata": {},
   "source": [
    "Creating an array with zeros!"
   ]
  },
  {
   "cell_type": "code",
   "execution_count": 32,
   "metadata": {},
   "outputs": [
    {
     "data": {
      "text/plain": [
       "array([0., 0., 0., 0., 0., 0., 0., 0., 0., 0.])"
      ]
     },
     "execution_count": 32,
     "metadata": {},
     "output_type": "execute_result"
    }
   ],
   "source": [
    "simple_data = np.zeros(10)\n",
    "simple_data"
   ]
  },
  {
   "cell_type": "code",
   "execution_count": 33,
   "metadata": {},
   "outputs": [],
   "source": [
    "simple_data[0]=0.00000000001"
   ]
  },
  {
   "cell_type": "code",
   "execution_count": 34,
   "metadata": {},
   "outputs": [
    {
     "data": {
      "text/plain": [
       "(10,)"
      ]
     },
     "execution_count": 34,
     "metadata": {},
     "output_type": "execute_result"
    }
   ],
   "source": [
    "simple_data.shape"
   ]
  },
  {
   "cell_type": "code",
   "execution_count": 38,
   "metadata": {},
   "outputs": [
    {
     "name": "stdout",
     "output_type": "stream",
     "text": [
      "1e-11\n"
     ]
    }
   ],
   "source": [
    "print(simple_data[0])"
   ]
  },
  {
   "cell_type": "markdown",
   "metadata": {},
   "source": [
    "# Creating an array using the range(n) and numpy.arange(n)"
   ]
  },
  {
   "cell_type": "code",
   "execution_count": 2,
   "metadata": {},
   "outputs": [
    {
     "name": "stdout",
     "output_type": "stream",
     "text": [
      "[0 1 2 3 4 5 6 7 8 9]\n"
     ]
    }
   ],
   "source": [
    "n = 10\n",
    "new_data = np.array(range(10))\n",
    "new_data2 = np.arange(10)\n",
    "print(new_data)\n"
   ]
  },
  {
   "cell_type": "code",
   "execution_count": 3,
   "metadata": {},
   "outputs": [
    {
     "data": {
      "text/plain": [
       "1"
      ]
     },
     "execution_count": 3,
     "metadata": {},
     "output_type": "execute_result"
    }
   ],
   "source": [
    "new_data[0] = 1.2034234\n",
    "new_data[0]"
   ]
  },
  {
   "cell_type": "markdown",
   "metadata": {},
   "source": [
    "Note that the above array was created with a NumPy integer type! Let's check it out!"
   ]
  },
  {
   "cell_type": "code",
   "execution_count": 41,
   "metadata": {},
   "outputs": [
    {
     "data": {
      "text/plain": [
       "dtype('int64')"
      ]
     },
     "execution_count": 41,
     "metadata": {},
     "output_type": "execute_result"
    }
   ],
   "source": [
    "new_data.dtype"
   ]
  },
  {
   "cell_type": "markdown",
   "metadata": {},
   "source": [
    "Let's get some help on creating arrays with different number types!"
   ]
  },
  {
   "cell_type": "code",
   "execution_count": 43,
   "metadata": {},
   "outputs": [],
   "source": [
    "# ? np.array   #Ops... there is a lengthy explanation Here, so I commented!"
   ]
  },
  {
   "cell_type": "code",
   "execution_count": 47,
   "metadata": {},
   "outputs": [
    {
     "data": {
      "text/plain": [
       "array([0., 0., 0., 0., 0., 0., 0., 0., 0., 0.])"
      ]
     },
     "execution_count": 47,
     "metadata": {},
     "output_type": "execute_result"
    }
   ],
   "source": [
    "np.array([0]*10,dtype=float)"
   ]
  },
  {
   "cell_type": "code",
   "execution_count": 52,
   "metadata": {},
   "outputs": [
    {
     "data": {
      "text/plain": [
       "array([0, 0, 0, 0, 0, 0, 0, 0, 0, 0])"
      ]
     },
     "execution_count": 52,
     "metadata": {},
     "output_type": "execute_result"
    }
   ],
   "source": [
    "teste = np.array([0]*10,dtype=int)\n",
    "teste"
   ]
  },
  {
   "cell_type": "markdown",
   "metadata": {},
   "source": [
    "Creating arrays with various dimensions"
   ]
  },
  {
   "cell_type": "markdown",
   "metadata": {},
   "source": [
    "A one-dimensional array with ones!"
   ]
  },
  {
   "cell_type": "code",
   "execution_count": 53,
   "metadata": {},
   "outputs": [
    {
     "data": {
      "text/plain": [
       "array([1., 1., 1., 1., 1., 1., 1., 1., 1., 1.])"
      ]
     },
     "execution_count": 53,
     "metadata": {},
     "output_type": "execute_result"
    }
   ],
   "source": [
    "np.ones(10)"
   ]
  },
  {
   "cell_type": "markdown",
   "metadata": {},
   "source": [
    "A two-dimensional array with ones"
   ]
  },
  {
   "cell_type": "code",
   "execution_count": 54,
   "metadata": {},
   "outputs": [
    {
     "data": {
      "text/plain": [
       "array([[1., 1., 1., 1., 1., 1., 1., 1., 1., 1.],\n",
       "       [1., 1., 1., 1., 1., 1., 1., 1., 1., 1.],\n",
       "       [1., 1., 1., 1., 1., 1., 1., 1., 1., 1.],\n",
       "       [1., 1., 1., 1., 1., 1., 1., 1., 1., 1.],\n",
       "       [1., 1., 1., 1., 1., 1., 1., 1., 1., 1.],\n",
       "       [1., 1., 1., 1., 1., 1., 1., 1., 1., 1.],\n",
       "       [1., 1., 1., 1., 1., 1., 1., 1., 1., 1.],\n",
       "       [1., 1., 1., 1., 1., 1., 1., 1., 1., 1.],\n",
       "       [1., 1., 1., 1., 1., 1., 1., 1., 1., 1.],\n",
       "       [1., 1., 1., 1., 1., 1., 1., 1., 1., 1.]])"
      ]
     },
     "execution_count": 54,
     "metadata": {},
     "output_type": "execute_result"
    }
   ],
   "source": [
    "np.ones((10,10))"
   ]
  },
  {
   "cell_type": "markdown",
   "metadata": {},
   "source": [
    "Functions `np.zeros()` and `np.ones()` work in a similar way. Below a three dimensional array with zeros"
   ]
  },
  {
   "cell_type": "code",
   "execution_count": 56,
   "metadata": {},
   "outputs": [
    {
     "data": {
      "text/plain": [
       "array([[[0., 0., 0., 0., 0.],\n",
       "        [0., 0., 0., 0., 0.],\n",
       "        [0., 0., 0., 0., 0.],\n",
       "        [0., 0., 0., 0., 0.],\n",
       "        [0., 0., 0., 0., 0.]],\n",
       "\n",
       "       [[0., 0., 0., 0., 0.],\n",
       "        [0., 0., 0., 0., 0.],\n",
       "        [0., 0., 0., 0., 0.],\n",
       "        [0., 0., 0., 0., 0.],\n",
       "        [0., 0., 0., 0., 0.]],\n",
       "\n",
       "       [[0., 0., 0., 0., 0.],\n",
       "        [0., 0., 0., 0., 0.],\n",
       "        [0., 0., 0., 0., 0.],\n",
       "        [0., 0., 0., 0., 0.],\n",
       "        [0., 0., 0., 0., 0.]],\n",
       "\n",
       "       [[0., 0., 0., 0., 0.],\n",
       "        [0., 0., 0., 0., 0.],\n",
       "        [0., 0., 0., 0., 0.],\n",
       "        [0., 0., 0., 0., 0.],\n",
       "        [0., 0., 0., 0., 0.]],\n",
       "\n",
       "       [[0., 0., 0., 0., 0.],\n",
       "        [0., 0., 0., 0., 0.],\n",
       "        [0., 0., 0., 0., 0.],\n",
       "        [0., 0., 0., 0., 0.],\n",
       "        [0., 0., 0., 0., 0.]]])"
      ]
     },
     "execution_count": 56,
     "metadata": {},
     "output_type": "execute_result"
    }
   ],
   "source": [
    "np.zeros((5,5,5))"
   ]
  },
  {
   "cell_type": "markdown",
   "metadata": {},
   "source": [
    "A serie of points for making some graphic"
   ]
  },
  {
   "cell_type": "code",
   "execution_count": 63,
   "metadata": {},
   "outputs": [
    {
     "name": "stdout",
     "output_type": "stream",
     "text": [
      "[0.         0.03173326 0.06346652 0.09519978 0.12693304 0.1586663\n",
      " 0.19039955 0.22213281 0.25386607 0.28559933 0.31733259 0.34906585\n",
      " 0.38079911 0.41253237 0.44426563 0.47599889 0.50773215 0.53946541\n",
      " 0.57119866 0.60293192 0.63466518 0.66639844 0.6981317  0.72986496\n",
      " 0.76159822 0.79333148 0.82506474 0.856798   0.88853126 0.92026451\n",
      " 0.95199777 0.98373103 1.01546429 1.04719755 1.07893081 1.11066407\n",
      " 1.14239733 1.17413059 1.20586385 1.23759711 1.26933037 1.30106362\n",
      " 1.33279688 1.36453014 1.3962634  1.42799666 1.45972992 1.49146318\n",
      " 1.52319644 1.5549297  1.58666296 1.61839622 1.65012947 1.68186273\n",
      " 1.71359599 1.74532925 1.77706251 1.80879577 1.84052903 1.87226229\n",
      " 1.90399555 1.93572881 1.96746207 1.99919533 2.03092858 2.06266184\n",
      " 2.0943951  2.12612836 2.15786162 2.18959488 2.22132814 2.2530614\n",
      " 2.28479466 2.31652792 2.34826118 2.37999443 2.41172769 2.44346095\n",
      " 2.47519421 2.50692747 2.53866073 2.57039399 2.60212725 2.63386051\n",
      " 2.66559377 2.69732703 2.72906028 2.76079354 2.7925268  2.82426006\n",
      " 2.85599332 2.88772658 2.91945984 2.9511931  2.98292636 3.01465962\n",
      " 3.04639288 3.07812614 3.10985939 3.14159265]\n"
     ]
    }
   ],
   "source": [
    "x = np.linspace(start=0.0,stop=np.pi,num=100,dtype=np.float64)\n",
    "print(x)"
   ]
  },
  {
   "cell_type": "markdown",
   "metadata": {},
   "source": [
    "Note that the above command could be written more easily as (my machine is 64 bits):"
   ]
  },
  {
   "cell_type": "code",
   "execution_count": 72,
   "metadata": {},
   "outputs": [
    {
     "name": "stdout",
     "output_type": "stream",
     "text": [
      "[0.         0.03173326 0.06346652 0.09519978 0.12693304 0.1586663\n",
      " 0.19039955 0.22213281 0.25386607 0.28559933 0.31733259 0.34906585\n",
      " 0.38079911 0.41253237 0.44426563 0.47599889 0.50773215 0.53946541\n",
      " 0.57119866 0.60293192 0.63466518 0.66639844 0.6981317  0.72986496\n",
      " 0.76159822 0.79333148 0.82506474 0.856798   0.88853126 0.92026451\n",
      " 0.95199777 0.98373103 1.01546429 1.04719755 1.07893081 1.11066407\n",
      " 1.14239733 1.17413059 1.20586385 1.23759711 1.26933037 1.30106362\n",
      " 1.33279688 1.36453014 1.3962634  1.42799666 1.45972992 1.49146318\n",
      " 1.52319644 1.5549297  1.58666296 1.61839622 1.65012947 1.68186273\n",
      " 1.71359599 1.74532925 1.77706251 1.80879577 1.84052903 1.87226229\n",
      " 1.90399555 1.93572881 1.96746207 1.99919533 2.03092858 2.06266184\n",
      " 2.0943951  2.12612836 2.15786162 2.18959488 2.22132814 2.2530614\n",
      " 2.28479466 2.31652792 2.34826118 2.37999443 2.41172769 2.44346095\n",
      " 2.47519421 2.50692747 2.53866073 2.57039399 2.60212725 2.63386051\n",
      " 2.66559377 2.69732703 2.72906028 2.76079354 2.7925268  2.82426006\n",
      " 2.85599332 2.88772658 2.91945984 2.9511931  2.98292636 3.01465962\n",
      " 3.04639288 3.07812614 3.10985939 3.14159265] \n",
      "\n",
      "float64\n"
     ]
    }
   ],
   "source": [
    "from numpy import pi\n",
    "x = np.linspace(0.0,pi,100)\n",
    "print(x, '\\n' )\n",
    "print(x.dtype.name)"
   ]
  },
  {
   "cell_type": "markdown",
   "metadata": {},
   "source": [
    "**Now, let's make some calculations!**\n",
    "\n",
    "NumPy uses vectorized functions, which work with scalars and arrays as arguments. The function is applyied to the array element by element, thus making it easier to code (and develop codes in parallel - although I haven't done that yet)."
   ]
  },
  {
   "cell_type": "code",
   "execution_count": 75,
   "metadata": {},
   "outputs": [
    {
     "name": "stdout",
     "output_type": "stream",
     "text": [
      "[ 1.          0.99949654  0.99798668  0.99547192  0.99195481  0.98743889\n",
      "  0.9819287   0.97542979  0.9679487   0.95949297  0.95007112  0.93969262\n",
      "  0.92836793  0.91610846  0.90292654  0.88883545  0.87384938  0.85798341\n",
      "  0.84125353  0.82367658  0.80527026  0.78605309  0.76604444  0.74526445\n",
      "  0.72373404  0.70147489  0.67850941  0.65486073  0.63055267  0.60560969\n",
      "  0.58005691  0.55392006  0.52722547  0.5         0.47227107  0.44406661\n",
      "  0.41541501  0.38634513  0.35688622  0.32706796  0.29692038  0.26647381\n",
      "  0.23575894  0.20480667  0.17364818  0.14231484  0.1108382   0.07924996\n",
      "  0.04758192  0.01586596 -0.01586596 -0.04758192 -0.07924996 -0.1108382\n",
      " -0.14231484 -0.17364818 -0.20480667 -0.23575894 -0.26647381 -0.29692038\n",
      " -0.32706796 -0.35688622 -0.38634513 -0.41541501 -0.44406661 -0.47227107\n",
      " -0.5        -0.52722547 -0.55392006 -0.58005691 -0.60560969 -0.63055267\n",
      " -0.65486073 -0.67850941 -0.70147489 -0.72373404 -0.74526445 -0.76604444\n",
      " -0.78605309 -0.80527026 -0.82367658 -0.84125353 -0.85798341 -0.87384938\n",
      " -0.88883545 -0.90292654 -0.91610846 -0.92836793 -0.93969262 -0.95007112\n",
      " -0.95949297 -0.9679487  -0.97542979 -0.9819287  -0.98743889 -0.99195481\n",
      " -0.99547192 -0.99798668 -0.99949654 -1.        ]\n"
     ]
    }
   ],
   "source": [
    "f = np.cos(x)\n",
    "print(f)"
   ]
  },
  {
   "cell_type": "code",
   "execution_count": null,
   "metadata": {},
   "outputs": [],
   "source": []
  },
  {
   "cell_type": "code",
   "execution_count": null,
   "metadata": {},
   "outputs": [],
   "source": []
  },
  {
   "cell_type": "code",
   "execution_count": 11,
   "metadata": {},
   "outputs": [
    {
     "data": {
      "text/plain": [
       "array([[[1., 1.],\n",
       "        [1., 1.]]])"
      ]
     },
     "execution_count": 11,
     "metadata": {},
     "output_type": "execute_result"
    }
   ],
   "source": [
    "a = 2*np.ones((2,2))\n",
    "tensor = np.array(a,ndmin=3,)\n",
    "tensor"
   ]
  },
  {
   "cell_type": "code",
   "execution_count": null,
   "metadata": {},
   "outputs": [],
   "source": [
    "np.array()"
   ]
  }
 ],
 "metadata": {
  "kernelspec": {
   "display_name": "Python 3 (ipykernel)",
   "language": "python",
   "name": "python3"
  },
  "language_info": {
   "codemirror_mode": {
    "name": "ipython",
    "version": 3
   },
   "file_extension": ".py",
   "mimetype": "text/x-python",
   "name": "python",
   "nbconvert_exporter": "python",
   "pygments_lexer": "ipython3",
   "version": "3.10.6"
  }
 },
 "nbformat": 4,
 "nbformat_minor": 4
}

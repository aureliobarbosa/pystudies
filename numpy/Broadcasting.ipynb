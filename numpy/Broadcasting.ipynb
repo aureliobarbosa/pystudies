{
 "cells": [
  {
   "cell_type": "code",
   "execution_count": 1,
   "metadata": {},
   "outputs": [],
   "source": [
    "import numpy as np"
   ]
  },
  {
   "cell_type": "code",
   "execution_count": 26,
   "metadata": {},
   "outputs": [],
   "source": [
    "a = np.random.randint(0,5,(3,2))\n",
    "t = np.linspace(1.0,0.0,100)"
   ]
  },
  {
   "cell_type": "code",
   "execution_count": 28,
   "metadata": {},
   "outputs": [],
   "source": [
    "ax, ty = np.meshgrid(a, t)"
   ]
  },
  {
   "cell_type": "code",
   "execution_count": 30,
   "metadata": {},
   "outputs": [],
   "source": [
    "teste = ax*ty"
   ]
  },
  {
   "cell_type": "code",
   "execution_count": 37,
   "metadata": {},
   "outputs": [
    {
     "data": {
      "text/plain": [
       "array([4.        , 3.95959596, 3.91919192, 3.87878788, 3.83838384,\n",
       "       3.7979798 , 3.75757576, 3.71717172, 3.67676768, 3.63636364,\n",
       "       3.5959596 , 3.55555556, 3.51515152, 3.47474747, 3.43434343,\n",
       "       3.39393939, 3.35353535, 3.31313131, 3.27272727, 3.23232323,\n",
       "       3.19191919, 3.15151515, 3.11111111, 3.07070707, 3.03030303,\n",
       "       2.98989899, 2.94949495, 2.90909091, 2.86868687, 2.82828283,\n",
       "       2.78787879, 2.74747475, 2.70707071, 2.66666667, 2.62626263,\n",
       "       2.58585859, 2.54545455, 2.50505051, 2.46464646, 2.42424242,\n",
       "       2.38383838, 2.34343434, 2.3030303 , 2.26262626, 2.22222222,\n",
       "       2.18181818, 2.14141414, 2.1010101 , 2.06060606, 2.02020202,\n",
       "       1.97979798, 1.93939394, 1.8989899 , 1.85858586, 1.81818182,\n",
       "       1.77777778, 1.73737374, 1.6969697 , 1.65656566, 1.61616162,\n",
       "       1.57575758, 1.53535354, 1.49494949, 1.45454545, 1.41414141,\n",
       "       1.37373737, 1.33333333, 1.29292929, 1.25252525, 1.21212121,\n",
       "       1.17171717, 1.13131313, 1.09090909, 1.05050505, 1.01010101,\n",
       "       0.96969697, 0.92929293, 0.88888889, 0.84848485, 0.80808081,\n",
       "       0.76767677, 0.72727273, 0.68686869, 0.64646465, 0.60606061,\n",
       "       0.56565657, 0.52525253, 0.48484848, 0.44444444, 0.4040404 ,\n",
       "       0.36363636, 0.32323232, 0.28282828, 0.24242424, 0.2020202 ,\n",
       "       0.16161616, 0.12121212, 0.08080808, 0.04040404, 0.        ])"
      ]
     },
     "execution_count": 37,
     "metadata": {},
     "output_type": "execute_result"
    }
   ],
   "source": [
    "teste[:,0]"
   ]
  },
  {
   "cell_type": "code",
   "execution_count": null,
   "metadata": {},
   "outputs": [],
   "source": [
    "np.resize()"
   ]
  }
 ],
 "metadata": {
  "kernelspec": {
   "display_name": "Python 3 (ipykernel)",
   "language": "python",
   "name": "python3"
  },
  "language_info": {
   "codemirror_mode": {
    "name": "ipython",
    "version": 3
   },
   "file_extension": ".py",
   "mimetype": "text/x-python",
   "name": "python",
   "nbconvert_exporter": "python",
   "pygments_lexer": "ipython3",
   "version": "3.10.6"
  }
 },
 "nbformat": 4,
 "nbformat_minor": 4
}

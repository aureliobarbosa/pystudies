{
 "cells": [
  {
   "cell_type": "markdown",
   "metadata": {},
   "source": [
    "2019-01-06 Marco Barbosa  \n",
    "Testing the poly1d function for finding root of a 1d polynomial.\n",
    "\n",
    "---\n",
    "\n",
    "Numpy implements a function which returns a 1D polynome object, poly1d. Its usage is very simple, as shown below!\n",
    "\n",
    "Let's start by finding the roots of $x^2-1=0$."
   ]
  },
  {
   "cell_type": "code",
   "execution_count": 1,
   "metadata": {},
   "outputs": [
    {
     "name": "stdin",
     "output_type": "stream",
     "text": [
      "Once deleted, variables cannot be recovered. Proceed (y/[n])?  y\n"
     ]
    }
   ],
   "source": [
    "reset"
   ]
  },
  {
   "cell_type": "code",
   "execution_count": 32,
   "metadata": {},
   "outputs": [],
   "source": [
    "import numpy as np\n",
    "import matplotlib.pyplot as plt"
   ]
  },
  {
   "cell_type": "code",
   "execution_count": 5,
   "metadata": {},
   "outputs": [
    {
     "name": "stdout",
     "output_type": "stream",
     "text": [
      "Equation: \n",
      "    2\n",
      "1 x - 1 \n",
      "\n",
      "has roots: \n",
      " [ 1. -1.]\n"
     ]
    }
   ],
   "source": [
    "f = np.poly1d([1,0,-1])    # returns a function which calculates all (?) roots of a polynomial.  \n",
    "\n",
    "print('Equation: \\n',f, '\\n\\nhas roots: \\n', f.roots)"
   ]
  },
  {
   "cell_type": "code",
   "execution_count": 59,
   "metadata": {},
   "outputs": [
    {
     "data": {
      "text/plain": [
       "'x'"
      ]
     },
     "execution_count": 59,
     "metadata": {},
     "output_type": "execute_result"
    }
   ],
   "source": [
    "f.variable"
   ]
  },
  {
   "cell_type": "code",
   "execution_count": 61,
   "metadata": {},
   "outputs": [
    {
     "data": {
      "text/plain": [
       "(-1, 0, 0)"
      ]
     },
     "execution_count": 61,
     "metadata": {},
     "output_type": "execute_result"
    }
   ],
   "source": [
    "f(0), f(-1), f(1)    # calculating values at specific points"
   ]
  },
  {
   "cell_type": "markdown",
   "metadata": {},
   "source": [
    "Now, let us use it for investigate something a little bit more interesting... \n",
    "Here I picked up the equation for a lattice gas on the triangular lattice in the approximation of a Husimi cactus... It is too much specific. It has a fifth order polynomial equation of state (I am working on this system right now...).\n",
    "\n",
    "For educational purposes it should be more interesting to test using the van der waals equation (try to work on that latter)."
   ]
  },
  {
   "cell_type": "code",
   "execution_count": 41,
   "metadata": {},
   "outputs": [],
   "source": [
    "p = dict( kT=0.5, ep=0.0, ept=0.0, mu=-1.0)   # Dictionary of parameters\n",
    "\n",
    "q = lambda par = p: np.exp(par['ep']/(2.0*par['kT']))        # edges are are shared between 2 triangles\n",
    "r = lambda par = p: np.exp(par['ept']/par['kT'])\n",
    "s = lambda par = p: np.exp(par['mu']/(6.0*par['kT']))        # vertexes between six triangles\n",
    "\n",
    "make_eos = lambda par = p: np.poly1d( [ -q(par)*s(par)**2, \\\n",
    "                 + q(par)**3*r(par)*s(par)**3, \\\n",
    "                 -2*s(par)**2, \\\n",
    "                +2*q(par)*s(par)**2, \\\n",
    "                -1, \\\n",
    "                s(par) ])\n",
    "\n",
    "f = make_eos(p)\n"
   ]
  },
  {
   "cell_type": "markdown",
   "metadata": {},
   "source": [
    "Plotting the polynomial expression as a function of x."
   ]
  },
  {
   "cell_type": "code",
   "execution_count": 43,
   "metadata": {},
   "outputs": [],
   "source": [
    "x = np.linspace(-5.0,5.0,100)\n",
    "y = f(x)"
   ]
  },
  {
   "cell_type": "code",
   "execution_count": 44,
   "metadata": {},
   "outputs": [
    {
     "data": {
      "text/plain": [
       "[<matplotlib.lines.Line2D at 0x7fbd883242b0>]"
      ]
     },
     "execution_count": 44,
     "metadata": {},
     "output_type": "execute_result"
    },
    {
     "data": {
      "image/png": "[encoded data removed]",
      "text/plain": [
       "<Figure size 432x288 with 1 Axes>"
      ]
     },
     "metadata": {
      "needs_background": "light"
     },
     "output_type": "display_data"
    }
   ],
   "source": [
    "plt.plot(x,y)"
   ]
  },
  {
   "cell_type": "markdown",
   "metadata": {},
   "source": [
    "Finding the roots (and visually confirming their location)."
   ]
  },
  {
   "cell_type": "code",
   "execution_count": 34,
   "metadata": {},
   "outputs": [
    {
     "name": "stdout",
     "output_type": "stream",
     "text": [
      "All:  [-0.40984282+1.20351669j -0.40984282-1.20351669j  0.35903456+0.96249618j\n",
      "  0.35903456-0.96249618j  0.81814782+0.j        ] \n",
      "\n",
      "Real: [0.8181478207616959] \n",
      "\n"
     ]
    }
   ],
   "source": [
    "all_roots = f.roots\n",
    "real_roots = [ x.real for x in all_roots if np.isreal(x)]\n",
    "\n",
    "print('All: ', all_roots, '\\n')\n",
    "print('Real:', real_roots, '\\n')"
   ]
  },
  {
   "cell_type": "code",
   "execution_count": null,
   "metadata": {},
   "outputs": [],
   "source": []
  },
  {
   "cell_type": "code",
   "execution_count": null,
   "metadata": {},
   "outputs": [],
   "source": []
  },
  {
   "cell_type": "code",
   "execution_count": 35,
   "metadata": {},
   "outputs": [
    {
     "data": {
      "text/plain": [
       "poly1d([-0.51341712,  0.36787944, -1.02683424,  1.02683424, -1.        ,\n",
       "        0.71653131])"
      ]
     },
     "execution_count": 35,
     "metadata": {},
     "output_type": "execute_result"
    }
   ],
   "source": [
    "f"
   ]
  },
  {
   "cell_type": "code",
   "execution_count": 36,
   "metadata": {},
   "outputs": [
    {
     "data": {
      "text/plain": [
       "{'kT': 0.5, 'ep': 0.0, 'ept': 0.0, 'mu': -1.0}"
      ]
     },
     "execution_count": 36,
     "metadata": {},
     "output_type": "execute_result"
    }
   ],
   "source": [
    "p"
   ]
  },
  {
   "cell_type": "code",
   "execution_count": 38,
   "metadata": {},
   "outputs": [],
   "source": [
    "p['kT']=0.1"
   ]
  },
  {
   "cell_type": "code",
   "execution_count": 39,
   "metadata": {},
   "outputs": [
    {
     "data": {
      "text/plain": [
       "poly1d([-0.51341712,  0.36787944, -1.02683424,  1.02683424, -1.        ,\n",
       "        0.71653131])"
      ]
     },
     "execution_count": 39,
     "metadata": {},
     "output_type": "execute_result"
    }
   ],
   "source": [
    "f"
   ]
  },
  {
   "cell_type": "code",
   "execution_count": null,
   "metadata": {},
   "outputs": [],
   "source": []
  },
  {
   "cell_type": "code",
   "execution_count": 49,
   "metadata": {},
   "outputs": [
    {
     "data": {
      "text/plain": [
       "0.35385499220635286"
      ]
     },
     "execution_count": 49,
     "metadata": {},
     "output_type": "execute_result"
    }
   ],
   "source": [
    "x2dens = lambda x: x**3/(1.0+x**3)\n",
    "x2dens(xr)\n"
   ]
  },
  {
   "cell_type": "code",
   "execution_count": null,
   "metadata": {},
   "outputs": [],
   "source": []
  }
 ],
 "metadata": {
  "kernelspec": {
   "display_name": "Python 3",
   "language": "python",
   "name": "python3"
  },
  "language_info": {
   "codemirror_mode": {
    "name": "ipython",
    "version": 3
   },
   "file_extension": ".py",
   "mimetype": "text/x-python",
   "name": "python",
   "nbconvert_exporter": "python",
   "pygments_lexer": "ipython3",
   "version": "3.7.2"
  }
 },
 "nbformat": 4,
 "nbformat_minor": 2
}

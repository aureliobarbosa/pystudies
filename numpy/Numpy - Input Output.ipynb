{
 "cells": [
  {
   "cell_type": "markdown",
   "metadata": {},
   "source": [
    "# I/O no Numpy\n",
    "\n",
    "Formas de salvar em um arquivo usando a biblioteca Numpy"
   ]
  },
  {
   "cell_type": "code",
   "execution_count": 1,
   "metadata": {},
   "outputs": [],
   "source": [
    "import numpy as np"
   ]
  },
  {
   "cell_type": "code",
   "execution_count": 2,
   "metadata": {},
   "outputs": [
    {
     "data": {
      "text/plain": [
       "array([[0.1869788 , 0.86077075, 0.22497629],\n",
       "       [0.03586618, 0.63214708, 0.08380428],\n",
       "       [0.00297935, 0.06029713, 0.50740661],\n",
       "       ...,\n",
       "       [0.58518482, 0.04978674, 0.92052349],\n",
       "       [0.27108555, 0.53478387, 0.52322959],\n",
       "       [0.03162427, 0.25980587, 0.98380355]])"
      ]
     },
     "execution_count": 2,
     "metadata": {},
     "output_type": "execute_result"
    }
   ],
   "source": [
    "data = np.random.random((1000,3))\n",
    "data"
   ]
  },
  {
   "cell_type": "markdown",
   "metadata": {},
   "source": [
    "## 1. Gravar usando ndarray.tofile()\n",
    "\n",
    "A partir do [Manual](https://docs.scipy.org/doc/numpy-1.15.0/reference/generated/numpy.ndarray.tofile.html#numpy.ndarray.tofile).\n",
    "\n",
    "*Note que eu não consegui fazer com que a linha fosse quebrada*, ou seja, ele cria um enorme string de dados com os números sequencialmente... deve ser uma bobagem, mas não achei um exemplo na internet!"
   ]
  },
  {
   "cell_type": "code",
   "execution_count": 3,
   "metadata": {},
   "outputs": [],
   "source": [
    "with open('test_random_tofile.dat', 'w') as file:\n",
    "    data.tofile(file,\" \")"
   ]
  },
  {
   "cell_type": "code",
   "execution_count": 5,
   "metadata": {},
   "outputs": [],
   "source": [
    "data[0,0]=1.0;\n",
    "data[0,1]=1.0;\n",
    "data[0,2]=1.0;"
   ]
  },
  {
   "cell_type": "code",
   "execution_count": 8,
   "metadata": {},
   "outputs": [
    {
     "data": {
      "text/plain": [
       "array([[1.        , 1.        , 1.        ],\n",
       "       [0.03586618, 0.63214708, 0.08380428],\n",
       "       [0.00297935, 0.06029713, 0.50740661],\n",
       "       ...,\n",
       "       [0.58518482, 0.04978674, 0.92052349],\n",
       "       [0.27108555, 0.53478387, 0.52322959],\n",
       "       [0.03162427, 0.25980587, 0.98380355]])"
      ]
     },
     "execution_count": 8,
     "metadata": {},
     "output_type": "execute_result"
    }
   ],
   "source": [
    "data"
   ]
  },
  {
   "cell_type": "markdown",
   "metadata": {},
   "source": [
    "## 2. np.savetxt()\n",
    "\n",
    "This seems really simple! And is, works out of the box.!"
   ]
  },
  {
   "cell_type": "code",
   "execution_count": 11,
   "metadata": {},
   "outputs": [],
   "source": [
    "np.savetxt('test_random_txt.dat', data, fmt='%1.6f',delimiter = ',', header=\"Blabla Inicial\", footer='Blablabla Final')"
   ]
  },
  {
   "cell_type": "markdown",
   "metadata": {},
   "source": [
    "# 3. Reading from file - genfromtxt()\n",
    "\n",
    "Works out of the box. Don't forget to specfy \n",
    "\n",
    "delimiter=',' for CSV"
   ]
  },
  {
   "cell_type": "code",
   "execution_count": 1,
   "metadata": {},
   "outputs": [],
   "source": [
    "#? np.genfromtxt"
   ]
  },
  {
   "cell_type": "code",
   "execution_count": 20,
   "metadata": {},
   "outputs": [],
   "source": [
    "new_data = np.genfromtxt('test_random_savetxt.dat',dtype=np.float32,usecols=(0,2),delimiter=',')"
   ]
  },
  {
   "cell_type": "code",
   "execution_count": 21,
   "metadata": {},
   "outputs": [
    {
     "data": {
      "text/plain": [
       "array([[0.      , 2.      ],\n",
       "       [0.035866, 0.083804],\n",
       "       [0.002979, 0.507407],\n",
       "       ...,\n",
       "       [0.585185, 0.920523],\n",
       "       [0.271086, 0.52323 ],\n",
       "       [0.031624, 0.983804]], dtype=float32)"
      ]
     },
     "execution_count": 21,
     "metadata": {},
     "output_type": "execute_result"
    }
   ],
   "source": [
    "new_data"
   ]
  },
  {
   "cell_type": "code",
   "execution_count": null,
   "metadata": {},
   "outputs": [],
   "source": []
  }
 ],
 "metadata": {
  "kernelspec": {
   "display_name": "Python 3",
   "language": "python",
   "name": "python3"
  },
  "language_info": {
   "codemirror_mode": {
    "name": "ipython",
    "version": 3
   },
   "file_extension": ".py",
   "mimetype": "text/x-python",
   "name": "python",
   "nbconvert_exporter": "python",
   "pygments_lexer": "ipython3",
   "version": "3.7.6"
  }
 },
 "nbformat": 4,
 "nbformat_minor": 4
}

{
 "cells": [
  {
   "cell_type": "code",
   "execution_count": 93,
   "id": "670f0d73-297f-4d47-afc2-ee093d5c7152",
   "metadata": {},
   "outputs": [],
   "source": [
    "import timeit"
   ]
  },
  {
   "cell_type": "code",
   "execution_count": 1,
   "id": "9e9b02e5-1699-4467-bcce-0ed86af25bf6",
   "metadata": {},
   "outputs": [],
   "source": [
    "phone = \"5561994080606\""
   ]
  },
  {
   "cell_type": "code",
   "execution_count": 2,
   "id": "ffd7dabd-2eac-41a8-bea3-c5d4659b038d",
   "metadata": {},
   "outputs": [
    {
     "data": {
      "text/plain": [
       "('5', '5', '6', '1', '9', '9', '4', '0', '8', '0', '6', '0', '6')"
      ]
     },
     "execution_count": 2,
     "metadata": {},
     "output_type": "execute_result"
    }
   ],
   "source": [
    "tuple(phone)"
   ]
  },
  {
   "cell_type": "code",
   "execution_count": 8,
   "id": "81110e49-c398-48ad-ace8-e2da7915a30d",
   "metadata": {},
   "outputs": [],
   "source": [
    "a = [1,2]\n",
    "b = [2,3,4,5]"
   ]
  },
  {
   "cell_type": "code",
   "execution_count": 11,
   "id": "e126f14f-3b25-4487-aebc-2d80413dc07c",
   "metadata": {},
   "outputs": [],
   "source": [
    "c = [a]*4"
   ]
  },
  {
   "cell_type": "code",
   "execution_count": 12,
   "id": "e2920ed2-2822-4a6b-b621-925cfdc1ce6e",
   "metadata": {},
   "outputs": [
    {
     "data": {
      "text/plain": [
       "[[1, 2], [1, 2], [1, 2], [1, 2]]"
      ]
     },
     "execution_count": 12,
     "metadata": {},
     "output_type": "execute_result"
    }
   ],
   "source": [
    "c"
   ]
  },
  {
   "cell_type": "code",
   "execution_count": 13,
   "id": "3cdae324-5a4a-49d9-a888-f414beb23863",
   "metadata": {},
   "outputs": [
    {
     "data": {
      "text/plain": [
       "[[1, 3], [1, 3], [1, 3], [1, 3]]"
      ]
     },
     "execution_count": 13,
     "metadata": {},
     "output_type": "execute_result"
    }
   ],
   "source": [
    "c[0][1]=3\n",
    "c"
   ]
  },
  {
   "cell_type": "code",
   "execution_count": 14,
   "id": "de7ed15f-bce2-4f18-b916-d16d4dfe4fe4",
   "metadata": {},
   "outputs": [
    {
     "data": {
      "text/plain": [
       "\u001b[0;31mSignature:\u001b[0m  \u001b[0mid\u001b[0m\u001b[0;34m(\u001b[0m\u001b[0mobj\u001b[0m\u001b[0;34m,\u001b[0m \u001b[0;34m/\u001b[0m\u001b[0;34m)\u001b[0m\u001b[0;34m\u001b[0m\u001b[0;34m\u001b[0m\u001b[0m\n",
       "\u001b[0;31mDocstring:\u001b[0m\n",
       "Return the identity of an object.\n",
       "\n",
       "This is guaranteed to be unique among simultaneously existing objects.\n",
       "(CPython uses the object's memory address.)\n",
       "\u001b[0;31mType:\u001b[0m      builtin_function_or_method\n"
      ]
     },
     "metadata": {},
     "output_type": "display_data"
    }
   ],
   "source": [
    "? id"
   ]
  },
  {
   "cell_type": "code",
   "execution_count": 30,
   "id": "a4067d34-4ef6-4d92-9e9a-93b905850380",
   "metadata": {},
   "outputs": [
    {
     "name": "stdout",
     "output_type": "stream",
     "text": [
      "[3, 9, 7, 1, 50, 11, 2] 140131632707712\n"
     ]
    }
   ],
   "source": [
    "list_numbers = [3,9,7, 1, 50, 11, 2]\n",
    "print(list_numbers, id(list_numbers))"
   ]
  },
  {
   "cell_type": "code",
   "execution_count": 50,
   "id": "b9053b04-4c20-4d90-bc2f-ef223bd1ff7f",
   "metadata": {},
   "outputs": [
    {
     "name": "stdout",
     "output_type": "stream",
     "text": [
      "[50, 11, 9, 7, 3, 2, 1] 140131632707712\n"
     ]
    }
   ],
   "source": [
    "list_numbers.sort(reverse=True)\n",
    "print(list_numbers, id(list_numbers))"
   ]
  },
  {
   "cell_type": "code",
   "execution_count": 32,
   "id": "b139f32c-0583-4eea-8fa4-cdff7870bcf8",
   "metadata": {},
   "outputs": [
    {
     "name": "stdout",
     "output_type": "stream",
     "text": [
      "[3, 9, 7, 1, 50, 11, 2] 140131629724224\n"
     ]
    }
   ],
   "source": [
    "new_list_sorted = sorted(list_numbers)\n",
    "print(list_numbers, id(new_list_sorted))"
   ]
  },
  {
   "cell_type": "code",
   "execution_count": 33,
   "id": "cbe3aba5-7b1b-4725-9395-c6973decb82c",
   "metadata": {},
   "outputs": [
    {
     "name": "stdout",
     "output_type": "stream",
     "text": [
      "[3, 9, 7, 1, 50, 11, 2] 140131632707712\n"
     ]
    }
   ],
   "source": [
    "print(list_numbers, id(list_numbers))"
   ]
  },
  {
   "cell_type": "code",
   "execution_count": 35,
   "id": "629ca9a1-5854-47d9-8e1e-24244f29f13a",
   "metadata": {},
   "outputs": [],
   "source": [
    "from random import shuffle"
   ]
  },
  {
   "cell_type": "code",
   "execution_count": 48,
   "id": "007ca210-4ae6-4e63-8916-00d193eb3b6d",
   "metadata": {},
   "outputs": [
    {
     "name": "stdout",
     "output_type": "stream",
     "text": [
      "[7, 1, 3, 11, 2, 50, 9] 140131632707712\n",
      "[11, 1, 7, 2, 9, 50, 3] 140131632707712\n"
     ]
    }
   ],
   "source": [
    "print(list_numbers, id(list_numbers))\n",
    "teste = shuffle(list_numbers)\n",
    "print(list_numbers, id(list_numbers))"
   ]
  },
  {
   "cell_type": "code",
   "execution_count": null,
   "id": "fe3720f2-09d4-40eb-90c2-79ab28b3be0c",
   "metadata": {},
   "outputs": [],
   "source": []
  },
  {
   "cell_type": "code",
   "execution_count": 51,
   "id": "f3f4dd13-cf74-4bc4-a844-c9d63874c08a",
   "metadata": {},
   "outputs": [],
   "source": [
    "list_text = ['abacate','zip','cobra','casa','jeca']"
   ]
  },
  {
   "cell_type": "code",
   "execution_count": 58,
   "id": "299e7b58-48c3-438d-9596-7fe4ec1fed34",
   "metadata": {},
   "outputs": [
    {
     "data": {
      "text/plain": [
       "['abacate', 'cobra', 'casa', 'jeca', 'zip']"
      ]
     },
     "execution_count": 58,
     "metadata": {},
     "output_type": "execute_result"
    }
   ],
   "source": [
    "list_text.sort(key=len,reverse=True)\n",
    "list_text\n"
   ]
  },
  {
   "cell_type": "code",
   "execution_count": 60,
   "id": "b0806223-a6c5-4df7-9412-62c684a93070",
   "metadata": {},
   "outputs": [],
   "source": [
    "positions = dict(x = (1,2,3), y = (1,2,3)   )"
   ]
  },
  {
   "cell_type": "code",
   "execution_count": 61,
   "id": "f511b6b7-6c5c-4e74-aa51-7c4a39380ce3",
   "metadata": {},
   "outputs": [
    {
     "data": {
      "text/plain": [
       "{'x': (1, 2, 3), 'y': (1, 2, 3)}"
      ]
     },
     "execution_count": 61,
     "metadata": {},
     "output_type": "execute_result"
    }
   ],
   "source": [
    "positions"
   ]
  },
  {
   "cell_type": "code",
   "execution_count": 88,
   "id": "6c6a2301-820b-418a-be49-b05205eacc87",
   "metadata": {},
   "outputs": [],
   "source": [
    "teste = positions.keys()"
   ]
  },
  {
   "cell_type": "code",
   "execution_count": 89,
   "id": "26b785a0-e3bf-4874-b0ef-05e6e01cb4db",
   "metadata": {},
   "outputs": [
    {
     "data": {
      "text/plain": [
       "dict_keys(['x', 'y'])"
      ]
     },
     "execution_count": 89,
     "metadata": {},
     "output_type": "execute_result"
    }
   ],
   "source": [
    "teste"
   ]
  },
  {
   "cell_type": "code",
   "execution_count": 90,
   "id": "13c64305-48a9-4bf8-874b-45d24ff09715",
   "metadata": {},
   "outputs": [],
   "source": [
    "teste = positions.items()"
   ]
  },
  {
   "cell_type": "code",
   "execution_count": 95,
   "id": "6568c733-5b9e-468f-92ae-e3c25ee9c4f7",
   "metadata": {},
   "outputs": [
    {
     "name": "stdout",
     "output_type": "stream",
     "text": [
      "115 ns ± 1.88 ns per loop (mean ± std. dev. of 7 runs, 10000000 loops each)\n"
     ]
    }
   ],
   "source": [
    "%timeit tuple(teste)"
   ]
  },
  {
   "cell_type": "code",
   "execution_count": 96,
   "id": "d6782e61-5192-4257-b674-30a9886b66f9",
   "metadata": {},
   "outputs": [
    {
     "name": "stdout",
     "output_type": "stream",
     "text": [
      "126 ns ± 0.495 ns per loop (mean ± std. dev. of 7 runs, 10000000 loops each)\n"
     ]
    }
   ],
   "source": [
    "%timeit list(teste)"
   ]
  },
  {
   "cell_type": "code",
   "execution_count": null,
   "id": "a4340f14-dca0-4304-be4e-8ca13c59039a",
   "metadata": {},
   "outputs": [],
   "source": []
  }
 ],
 "metadata": {
  "kernelspec": {
   "display_name": "Python 3.8.10 64-bit ('env_hvplot': venv)",
   "language": "python",
   "name": "python3810jvsc74a57bd007a6da4d7259a5ace6ce705bba8cf183136e22946de8205dae2afbe87c8acc4d"
  },
  "language_info": {
   "codemirror_mode": {
    "name": "ipython",
    "version": 3
   },
   "file_extension": ".py",
   "mimetype": "text/x-python",
   "name": "python",
   "nbconvert_exporter": "python",
   "pygments_lexer": "ipython3",
   "version": "3.8.10"
  }
 },
 "nbformat": 4,
 "nbformat_minor": 5
}

{
 "cells": [
  {
   "cell_type": "markdown",
   "id": "7972f4a8-ff51-4876-b316-d0c972b789a1",
   "metadata": {},
   "source": [
    "Basic properties of *set* class"
   ]
  },
  {
   "cell_type": "code",
   "execution_count": 6,
   "id": "6a3b69cf-6950-4079-b7be-0bdfe38276fe",
   "metadata": {},
   "outputs": [
    {
     "name": "stdout",
     "output_type": "stream",
     "text": [
      "{'jul', 'nov', 'mar', 'jan', 'jun', 'feb', 'oct', 'apr', 'may', 'sept', 'aug', 'dec'}\n"
     ]
    }
   ],
   "source": [
    "# Creating a class\n",
    "months = {'jan','feb','mar','apr','may','jun','jul','aug','sept','oct','nov','dec'}\n",
    "print(months)"
   ]
  },
  {
   "cell_type": "code",
   "execution_count": 26,
   "id": "fbf8a31c-f400-4edc-8a54-0e29fa2f12f7",
   "metadata": {},
   "outputs": [
    {
     "data": {
      "text/plain": [
       "{1, 2, 3, 4}"
      ]
     },
     "execution_count": 26,
     "metadata": {},
     "output_type": "execute_result"
    }
   ],
   "source": [
    "a = set([1,2,3,4])\n",
    "a"
   ]
  },
  {
   "cell_type": "code",
   "execution_count": 28,
   "id": "3c36a5f8-683a-4328-bb4b-1d0211a86502",
   "metadata": {},
   "outputs": [
    {
     "data": {
      "text/plain": [
       "{0, 1, 2, 3}"
      ]
     },
     "execution_count": 28,
     "metadata": {},
     "output_type": "execute_result"
    }
   ],
   "source": [
    "b = set(range(4))\n",
    "b"
   ]
  },
  {
   "cell_type": "code",
   "execution_count": 32,
   "id": "9ffc6c63-b51f-408b-b3b3-856a3439b3c5",
   "metadata": {},
   "outputs": [
    {
     "data": {
      "text/plain": [
       "set()"
      ]
     },
     "execution_count": 32,
     "metadata": {},
     "output_type": "execute_result"
    }
   ],
   "source": [
    "c = set()\n",
    "c"
   ]
  },
  {
   "cell_type": "code",
   "execution_count": 34,
   "id": "0a7158a0-1256-4d0a-8a81-937ccda621fa",
   "metadata": {},
   "outputs": [
    {
     "data": {
      "text/plain": [
       "({}, dict)"
      ]
     },
     "execution_count": 34,
     "metadata": {},
     "output_type": "execute_result"
    }
   ],
   "source": [
    "d = {}\n",
    "d, type(d)"
   ]
  },
  {
   "cell_type": "code",
   "execution_count": 18,
   "id": "ab3e77b0-c8e5-423d-919e-9c0a18148063",
   "metadata": {},
   "outputs": [
    {
     "name": "stdout",
     "output_type": "stream",
     "text": [
      "{'may', 'mar', 'jan', 'jun', 'feb', 'apr'}\n"
     ]
    }
   ],
   "source": [
    "Q1 = {'jan','feb','mar'}\n",
    "Q2 = {'apr','may','jun'}\n",
    "Q3 = {'jul','aug','sept'}\n",
    "Q4 = {'oct','nov','dec'}\n",
    "first_semester = Q1 | Q2\n",
    "second_semester = Q3 | Q4\n",
    "print(first_semester)"
   ]
  },
  {
   "cell_type": "code",
   "execution_count": 10,
   "id": "eef5f785-7117-4cd7-90d3-3a3dfd76b606",
   "metadata": {},
   "outputs": [
    {
     "data": {
      "text/plain": [
       "{'apr', 'feb', 'jan', 'jun', 'mar', 'may'}"
      ]
     },
     "execution_count": 10,
     "metadata": {},
     "output_type": "execute_result"
    }
   ],
   "source": [
    "first_semester | {'jan'}"
   ]
  },
  {
   "cell_type": "code",
   "execution_count": 15,
   "id": "4bb273be-7dbf-4b19-8ab7-5a1e4060810f",
   "metadata": {},
   "outputs": [
    {
     "data": {
      "text/plain": [
       "{'apr', 'feb', 'jun', 'mar', 'may'}"
      ]
     },
     "execution_count": 15,
     "metadata": {},
     "output_type": "execute_result"
    }
   ],
   "source": [
    "first_semester - {'jan'}"
   ]
  },
  {
   "cell_type": "code",
   "execution_count": 16,
   "id": "c542ed2e-5324-490d-b458-987d17da9a17",
   "metadata": {},
   "outputs": [
    {
     "data": {
      "text/plain": [
       "{'jan'}"
      ]
     },
     "execution_count": 16,
     "metadata": {},
     "output_type": "execute_result"
    }
   ],
   "source": [
    "first_semester & {'jan'}"
   ]
  },
  {
   "cell_type": "code",
   "execution_count": 19,
   "id": "9bbe8f1f-c14d-4235-b6aa-fcf60510e50e",
   "metadata": {},
   "outputs": [],
   "source": [
    "Q2Q3 = Q2 | Q3"
   ]
  },
  {
   "cell_type": "code",
   "execution_count": 20,
   "id": "eaf65a6e-fd72-4498-800c-fe57c884d983",
   "metadata": {},
   "outputs": [
    {
     "data": {
      "text/plain": [
       "{'apr', 'jun', 'may'}"
      ]
     },
     "execution_count": 20,
     "metadata": {},
     "output_type": "execute_result"
    }
   ],
   "source": [
    "first_semester & Q2Q3"
   ]
  },
  {
   "cell_type": "code",
   "execution_count": 21,
   "id": "01bdcf31-00dd-44cf-8aed-217d8ce4ce93",
   "metadata": {},
   "outputs": [
    {
     "data": {
      "text/plain": [
       "{'aug', 'feb', 'jan', 'jul', 'mar', 'sept'}"
      ]
     },
     "execution_count": 21,
     "metadata": {},
     "output_type": "execute_result"
    }
   ],
   "source": [
    "first_semester ^ Q2Q3"
   ]
  },
  {
   "cell_type": "code",
   "execution_count": 11,
   "id": "80345ee8-8917-4633-b3ab-537ce36f195d",
   "metadata": {},
   "outputs": [
    {
     "data": {
      "text/plain": [
       "{'jan'}"
      ]
     },
     "execution_count": 11,
     "metadata": {},
     "output_type": "execute_result"
    }
   ],
   "source": [
    "{'jan', 'jan'}"
   ]
  },
  {
   "cell_type": "code",
   "execution_count": 12,
   "id": "9455b753-13ee-49c6-a6d3-1a9d7e793130",
   "metadata": {},
   "outputs": [
    {
     "data": {
      "text/plain": [
       "True"
      ]
     },
     "execution_count": 12,
     "metadata": {},
     "output_type": "execute_result"
    }
   ],
   "source": [
    "'jan' in first_semester"
   ]
  },
  {
   "cell_type": "code",
   "execution_count": 13,
   "id": "c1cd7930-451c-49f1-bfe3-8c64dbda3a55",
   "metadata": {},
   "outputs": [
    {
     "data": {
      "text/plain": [
       "False"
      ]
     },
     "execution_count": 13,
     "metadata": {},
     "output_type": "execute_result"
    }
   ],
   "source": [
    "'dec' in first_semester"
   ]
  },
  {
   "cell_type": "code",
   "execution_count": 30,
   "id": "dedec471-0055-4347-8909-be28de9547c2",
   "metadata": {},
   "outputs": [
    {
     "data": {
      "text/plain": [
       "True"
      ]
     },
     "execution_count": 30,
     "metadata": {},
     "output_type": "execute_result"
    }
   ],
   "source": [
    "isinstance(first_semester,set)"
   ]
  },
  {
   "cell_type": "code",
   "execution_count": 35,
   "id": "a1ed5d7a-87b0-4350-a985-9319427bdd43",
   "metadata": {},
   "outputs": [],
   "source": [
    "a = months.copy()"
   ]
  },
  {
   "cell_type": "code",
   "execution_count": 37,
   "id": "9b531675-e433-4674-b701-5e79db9e0c8b",
   "metadata": {},
   "outputs": [
    {
     "data": {
      "text/plain": [
       "'jul'"
      ]
     },
     "execution_count": 37,
     "metadata": {},
     "output_type": "execute_result"
    }
   ],
   "source": [
    "a.pop()"
   ]
  },
  {
   "cell_type": "code",
   "execution_count": 38,
   "id": "7e4685c0-2ec4-43b2-9b88-272adab03622",
   "metadata": {},
   "outputs": [
    {
     "data": {
      "text/plain": [
       "{'apr', 'aug', 'dec', 'feb', 'jan', 'jun', 'mar', 'may', 'nov', 'oct', 'sept'}"
      ]
     },
     "execution_count": 38,
     "metadata": {},
     "output_type": "execute_result"
    }
   ],
   "source": [
    "a"
   ]
  },
  {
   "cell_type": "code",
   "execution_count": 41,
   "id": "258b9df9-687c-49e0-bf4f-eb73c5a5dad7",
   "metadata": {},
   "outputs": [
    {
     "name": "stdout",
     "output_type": "stream",
     "text": [
      "{'jul', 'nov', 'mar', 'jan', 'jun', 'feb', 'oct', 'apr', 'may', 'sept', 'aug', 'dec'}\n"
     ]
    }
   ],
   "source": [
    "print(months)"
   ]
  },
  {
   "cell_type": "code",
   "execution_count": 4,
   "id": "20b7b907-df19-4ebb-b547-59115a3052af",
   "metadata": {},
   "outputs": [
    {
     "data": {
      "text/plain": [
       "{2, 3, 4, 5, 6, 7, 8, 9, 10, 11, 12}"
      ]
     },
     "execution_count": 4,
     "metadata": {},
     "output_type": "execute_result"
    }
   ],
   "source": [
    "month_numbers"
   ]
  },
  {
   "cell_type": "code",
   "execution_count": 6,
   "id": "232a2472-681a-43a2-a42c-811807a58859",
   "metadata": {},
   "outputs": [
    {
     "data": {
      "text/plain": [
       "2"
      ]
     },
     "execution_count": 6,
     "metadata": {},
     "output_type": "execute_result"
    }
   ],
   "source": [
    "month_numbers.pop()"
   ]
  },
  {
   "cell_type": "code",
   "execution_count": 9,
   "id": "c10df292-6521-44be-b631-78e737124fdc",
   "metadata": {},
   "outputs": [
    {
     "data": {
      "text/plain": [
       "set()"
      ]
     },
     "execution_count": 9,
     "metadata": {},
     "output_type": "execute_result"
    }
   ],
   "source": [
    "month_numbers.clear()\n",
    "month_numbers"
   ]
  },
  {
   "cell_type": "code",
   "execution_count": null,
   "id": "b276634b-11c2-4d1c-9473-4282084d8a13",
   "metadata": {},
   "outputs": [],
   "source": []
  }
 ],
 "metadata": {
  "kernelspec": {
   "display_name": "Python 3 (ipykernel)",
   "language": "python",
   "name": "python3"
  },
  "language_info": {
   "codemirror_mode": {
    "name": "ipython",
    "version": 3
   },
   "file_extension": ".py",
   "mimetype": "text/x-python",
   "name": "python",
   "nbconvert_exporter": "python",
   "pygments_lexer": "ipython3",
   "version": "3.8.10"
  }
 },
 "nbformat": 4,
 "nbformat_minor": 5
}

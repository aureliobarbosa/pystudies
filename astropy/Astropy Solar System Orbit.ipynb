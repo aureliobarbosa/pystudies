{
 "cells": [
  {
   "cell_type": "markdown",
   "id": "enhanced-hundred",
   "metadata": {},
   "source": [
    "# Astropy Solar System Orbit\n",
    "\n",
    "In this notebook I use the open source library astropy to generate data for obtaining and plotting orbits of the planets. \n",
    "My intention is to evolve this into an small opensource function for obtaining orbits and outputting as either numpy ndarrays or pandas DataFrame.\n",
    "\n",
    "You (the reader!), can notice that few code is needed for doing such work, and that essentially everything is done by astropy packages coordinates and Time, with a little bit of work for simplifying extraction of appropriate data range for the orbits, using `pd.data_range()` function.\n",
    "\n",
    "Tables with data from  Ephemeris in the \n"
   ]
  },
  {
   "cell_type": "code",
   "execution_count": 1,
   "id": "expressed-snake",
   "metadata": {},
   "outputs": [],
   "source": [
    "import pandas as pd\n",
    "import matplotlib.pyplot as plt\n",
    "\n",
    "from astropy import units as u\n",
    "from astropy.coordinates import solar_system_ephemeris, get_body_barycentric, SkyCoord\n",
    "from astropy.time import Time"
   ]
  },
  {
   "cell_type": "code",
   "execution_count": 2,
   "id": "mediterranean-georgia",
   "metadata": {},
   "outputs": [
    {
     "name": "stdout",
     "output_type": "stream",
     "text": [
      "List of bodies included in the ephemeris: \n",
      " ('sun', 'mercury', 'venus', 'earth-moon-barycenter', 'earth', 'moon', 'mars', 'jupiter', 'saturn', 'uranus', 'neptune', 'pluto')\n"
     ]
    }
   ],
   "source": [
    "ephemeris_name = 'de430'\n",
    "solar_system_ephemeris.set(ephemeris_name)\n",
    "bodies_list = solar_system_ephemeris.bodies\n",
    "print(\"List of bodies included in the ephemeris: \\n\", bodies_list)"
   ]
  },
  {
   "cell_type": "code",
   "execution_count": 3,
   "id": "classical-shore",
   "metadata": {},
   "outputs": [],
   "source": [
    "body = bodies_list[1]"
   ]
  },
  {
   "cell_type": "code",
   "execution_count": 4,
   "id": "molecular-declaration",
   "metadata": {},
   "outputs": [],
   "source": [
    "# times\n",
    "start = \"2021-09-16\"\n",
    "end = \"2022-09-16\"\n",
    "times = pd.date_range(start=start,end=end,freq='D')\n",
    "ts = Time(times)\n",
    "\n",
    "# Coordinates\n",
    "coords = get_body_barycentric(body,ts).xyz.to(u.AU)\n",
    "x, y, z = coords.to_value()"
   ]
  },
  {
   "cell_type": "code",
   "execution_count": null,
   "id": "274a1972-fdf0-4d41-8482-4de79a99ece3",
   "metadata": {},
   "outputs": [],
   "source": []
  },
  {
   "cell_type": "code",
   "execution_count": null,
   "id": "7248f65d-3171-4a5b-8dfc-7d34a2e8cbfe",
   "metadata": {},
   "outputs": [],
   "source": []
  },
  {
   "cell_type": "code",
   "execution_count": null,
   "id": "9bc6363e-15aa-48a6-985a-1dc6cf78b8a0",
   "metadata": {},
   "outputs": [],
   "source": [
    "1+1"
   ]
  },
  {
   "cell_type": "code",
   "execution_count": 10,
   "id": "f37066ce-587c-47f2-a9a3-4d93365f6e33",
   "metadata": {},
   "outputs": [],
   "source": [
    "coords = get_body_barycentric(body,ts)\n",
    "coords = SkyCoord(coords).transform_to('barycentricmeanecliptic')\n",
    "teste = coords.cartesian.xyz.to(u.AU).to_value()"
   ]
  },
  {
   "cell_type": "code",
   "execution_count": 13,
   "id": "b1c8d51f-b205-42cb-b54a-63ba69908942",
   "metadata": {},
   "outputs": [],
   "source": [
    "x, y, z = coords.cartesian.xyz.to(u.AU).to_value()"
   ]
  },
  {
   "cell_type": "code",
   "execution_count": 18,
   "id": "6f22bdd9-a266-4936-b327-7a8634a6b8e4",
   "metadata": {},
   "outputs": [
    {
     "data": {
      "text/plain": [
       "array([-0.04629743, -0.04746649, -0.04848094, -0.04933415, -0.05001953,\n",
       "       -0.05053052, -0.05086061, -0.05100341, -0.05095265, -0.05070223,\n",
       "       -0.05024632, -0.04957939, -0.04869631, -0.0475925 , -0.04626402,\n",
       "       -0.04470772, -0.04292146, -0.0409043 , -0.03865671, -0.03618091,\n",
       "       -0.03348107, -0.03056371, -0.02743798, -0.02411599, -0.02061313,\n",
       "       -0.01694833, -0.01314423, -0.00922728, -0.00522763, -0.00117889,\n",
       "        0.0028823 ,  0.00691698,  0.01088476,  0.01474482,  0.01845709,\n",
       "        0.02198343,  0.02528872,  0.02834188,  0.03111656,  0.0335917 ,\n",
       "        0.03575167,  0.03758629,  0.03909052,  0.04026404,  0.04111069,\n",
       "        0.04163782,  0.0418557 ,  0.0417769 ,  0.04141569,  0.04078761,\n",
       "        0.03990897,  0.03879655,  0.03746725,  0.03593794,  0.0342252 ,\n",
       "        0.03234525,  0.03031383,  0.02814613,  0.02585679,  0.02345984,\n",
       "        0.02096873,  0.01839632,  0.01575489,  0.01305619,  0.01031146,\n",
       "        0.00753143,  0.00472639,  0.00190621, -0.00091966, -0.00374208,\n",
       "       -0.00655229, -0.00934181, -0.01210242, -0.01482617, -0.01750529,\n",
       "       -0.02013224, -0.02269963, -0.02520022, -0.02762691, -0.02997269,\n",
       "       -0.03223065, -0.03439394, -0.0364558 , -0.03840948, -0.04024829,\n",
       "       -0.04196553, -0.04355456, -0.04500871, -0.04632133, -0.04748578,\n",
       "       -0.04849541, -0.04934361, -0.05002377, -0.05052934, -0.05085382,\n",
       "       -0.05099081, -0.05093405, -0.05067746, -0.05021519, -0.04954175,\n",
       "       -0.04865201, -0.04754141, -0.04620603, -0.04464275, -0.04284946,\n",
       "       -0.04082526, -0.03857068, -0.03608798, -0.03338141, -0.03045755,\n",
       "       -0.02732565, -0.02399791, -0.02048983, -0.01682044, -0.01301251,\n",
       "       -0.00909259, -0.00509094, -0.00104129,  0.00301966,  0.00705289,\n",
       "        0.01101796,  0.01487407,  0.0185812 ,  0.02210126,  0.02539927,\n",
       "        0.02844426,  0.03121005,  0.03367573,  0.03582585,  0.03765039,\n",
       "        0.03914447,  0.04030789,  0.0411446 ,  0.04166208,  0.04187065,\n",
       "        0.04178296,  0.04141332,  0.04077729,  0.03989121,  0.03877186,\n",
       "        0.03743617,  0.03590096,  0.03418283,  0.03229799,  0.03026214,\n",
       "        0.02809048,  0.02579761,  0.02339756,  0.02090374,  0.01832901,\n",
       "        0.01568563,  0.01298534,  0.01023935,  0.00745839,  0.00465273,\n",
       "        0.00183221, -0.00099369, -0.00381588, -0.0066256 , -0.00941436,\n",
       "       -0.01217397, -0.01489647, -0.01757412, -0.02019936, -0.02276482,\n",
       "       -0.02526326, -0.02768758, -0.03003078, -0.03228594, -0.03444624,\n",
       "       -0.03650489, -0.03845515, -0.04029033, -0.04200375, -0.04358874,\n",
       "       -0.04503865, -0.04634683, -0.04750663, -0.04851141, -0.04935455,\n",
       "       -0.05002945, -0.05052956, -0.05084837, -0.0509795 , -0.05091669,\n",
       "       -0.05065386, -0.05018518, -0.04950515, -0.04860868, -0.04749121,\n",
       "       -0.04614884, -0.04457849, -0.04277809, -0.04074676, -0.03848509,\n",
       "       -0.0359954 , -0.033282  , -0.03035155, -0.02721339, -0.02387981,\n",
       "       -0.02036642, -0.01669237, -0.01288054, -0.0089576 , -0.00495392,\n",
       "       -0.00090334,  0.00315735,  0.00718909,  0.01115141,  0.0150035 ,\n",
       "        0.01870538,  0.02221907,  0.02550967,  0.02854636,  0.03130313,\n",
       "        0.03375922,  0.03589935,  0.03771368,  0.03919747,  0.04035067,\n",
       "        0.04117735,  0.04168507,  0.04188425,  0.04178759,  0.04140945,\n",
       "        0.04076541,  0.03987185,  0.03874554,  0.03740341,  0.03586228,\n",
       "        0.03413875,  0.03224899,  0.0302087 ,  0.02803306,  0.02573666,\n",
       "        0.0233335 ,  0.02083699,  0.01825994,  0.01561462,  0.01291274,\n",
       "        0.01016549,  0.0073836 ,  0.00457731,  0.00175647, -0.00106947,\n",
       "       -0.00389143, -0.00670064, -0.00948865, -0.01224726, -0.01496851,\n",
       "       -0.01764468, -0.02026821, -0.02283174, -0.02532802, -0.02774997,\n",
       "       -0.03009058, -0.03234295, -0.03450024, -0.03655567, -0.03850252,\n",
       "       -0.04033407, -0.04204366, -0.04362462, -0.04507028, -0.04637402,\n",
       "       -0.04752916, -0.04852909, -0.04936717, -0.05003681, -0.05053145,\n",
       "       -0.05084461, -0.05096988, -0.05090102, -0.05063195, -0.05015687,\n",
       "       -0.04947026, -0.04856707, -0.04744275, -0.04609342, -0.04451603,\n",
       "       -0.04270853, -0.04067011, -0.03840139, -0.03590474, -0.03318455,\n",
       "       -0.03024757, -0.02710319, -0.02376384, -0.0202452 , -0.01656656,\n",
       "       -0.0127509 , -0.00882502, -0.00481939, -0.00076796,  0.00329242,\n",
       "        0.0073226 ,  0.01128211,  0.01513013,  0.01882674,  0.02233402,\n",
       "        0.02561719,  0.02864559,  0.03139333,  0.03383984,  0.03597002,\n",
       "        0.03777417,  0.03924772,  0.04039074,  0.04120743,  0.04170544,\n",
       "        0.04189528,  0.04178968,  0.04140309,  0.04075109,  0.03985008,\n",
       "        0.03871684,  0.0373683 ,  0.03582129,  0.03409237,  0.03219772,\n",
       "        0.03015302,  0.02797342,  0.02567351,  0.02326725,  0.02076804,\n",
       "        0.01818869,  0.01554143,  0.01283796,  0.01008947,  0.00730665,\n",
       "        0.00449975,  0.00167859, -0.00114739, -0.00396911, -0.00677783,\n",
       "       -0.00956508, -0.01232268, -0.01504269, -0.01771738, -0.0203392 ,\n",
       "       -0.02290079, -0.02539493, -0.02781451, -0.03015254, -0.03240212,\n",
       "       -0.0345564 , -0.03660863, -0.03855206, -0.04037999, -0.04208575,\n",
       "       -0.04366268, -0.04510411, -0.0464034 , -0.04755391, -0.04854898,\n",
       "       -0.04938201, -0.05004639, -0.05053558, -0.05084308, -0.0509625 ,\n",
       "       -0.0508876 , -0.05061231, -0.05013082, -0.04943765, -0.04852775,\n",
       "       -0.04739658])"
      ]
     },
     "execution_count": 18,
     "metadata": {},
     "output_type": "execute_result"
    }
   ],
   "source": [
    "z"
   ]
  },
  {
   "cell_type": "code",
   "execution_count": null,
   "id": "68806535-03ca-433f-9949-621865731647",
   "metadata": {},
   "outputs": [],
   "source": []
  },
  {
   "cell_type": "code",
   "execution_count": 6,
   "id": "arabic-drove",
   "metadata": {},
   "outputs": [
    {
     "data": {
      "text/plain": [
       "<mpl_toolkits.mplot3d.art3d.Path3DCollection at 0x7f6d3b8b5a30>"
      ]
     },
     "execution_count": 6,
     "metadata": {},
     "output_type": "execute_result"
    },
    {
     "data": {
      "image/png": "[encoded data removed]",
      "text/plain": [
       "<Figure size 432x288 with 1 Axes>"
      ]
     },
     "metadata": {
      "needs_background": "light"
     },
     "output_type": "display_data"
    }
   ],
   "source": [
    "fig = plt.figure()\n",
    "ax = fig.add_subplot(projection='3d')\n",
    "ax.scatter(x, y, z)"
   ]
  },
  {
   "cell_type": "code",
   "execution_count": null,
   "id": "8f89ea5e-d971-4556-b884-31f50f38ab15",
   "metadata": {},
   "outputs": [],
   "source": []
  },
  {
   "cell_type": "code",
   "execution_count": null,
   "id": "3a5404e5-cfbb-4fa1-a740-ec09c1b5021c",
   "metadata": {},
   "outputs": [],
   "source": []
  },
  {
   "cell_type": "markdown",
   "id": "thousand-cruise",
   "metadata": {},
   "source": [
    "Converting between coordinates"
   ]
  },
  {
   "cell_type": "code",
   "execution_count": 12,
   "id": "a8901f41-e27e-4d99-8156-f90b8c3d94fb",
   "metadata": {},
   "outputs": [],
   "source": [
    "teste = coords.xyz"
   ]
  },
  {
   "cell_type": "code",
   "execution_count": 13,
   "id": "da00e899-fd13-4665-a0b1-6a1e77b10cad",
   "metadata": {},
   "outputs": [],
   "source": [
    "teste2 = teste.to(u.AU)"
   ]
  },
  {
   "cell_type": "code",
   "execution_count": 16,
   "id": "641dbde3-1475-4caa-847f-224f1ca396e1",
   "metadata": {},
   "outputs": [
    {
     "data": {
      "text/latex": [
       "$[[0.11129155,~0.13257105,~0.15339351,~\\dots,~0.30697197,~0.31828012,~0.32810135],~\n",
       " [-0.37624817,~-0.36699785,~-0.3565439,~\\dots,~-0.21117953,~-0.18968918,~-0.16733399],~\n",
       " [-0.21358485,~-0.21084855,~-0.2074219,~\\dots,~-0.1454415,~-0.13513256,~-0.1242075]] \\; \\mathrm{AU}$"
      ],
      "text/plain": [
       "<Quantity [[ 0.11129155,  0.13257105,  0.15339351, ...,  0.30697197,\n",
       "             0.31828012,  0.32810135],\n",
       "           [-0.37624817, -0.36699785, -0.3565439 , ..., -0.21117953,\n",
       "            -0.18968918, -0.16733399],\n",
       "           [-0.21358485, -0.21084855, -0.2074219 , ..., -0.1454415 ,\n",
       "            -0.13513256, -0.1242075 ]] AU>"
      ]
     },
     "execution_count": 16,
     "metadata": {},
     "output_type": "execute_result"
    }
   ],
   "source": [
    "teste.to(u.AU)"
   ]
  },
  {
   "cell_type": "code",
   "execution_count": 18,
   "id": "acc8eb6f-074e-40cc-ba42-c5b642cb9e61",
   "metadata": {},
   "outputs": [
    {
     "data": {
      "text/latex": [
       "$[-31951839,~-31542494,~-31029874,~\\dots,~-21757739,~-20215543,~-18581177] \\; \\mathrm{km}$"
      ],
      "text/plain": [
       "<Quantity [-31951838.95491061, -31542494.12349981, -31029874.15292846,\n",
       "           -30413501.91565762, -29693084.88603142, -28868540.02782265,\n",
       "           -27940022.99289948, -26907962.13467329, -25773097.87965196,\n",
       "           -24536528.02873223, -23199759.56918461, -21764767.55802647,\n",
       "           -20234061.57330061, -18610760.10271425, -16898673.02474257,\n",
       "           -15102392.00523869, -13227388.14640212, -11280115.54340782,\n",
       "            -9268118.48418836,  -7200138.83144608,  -5086218.62975716,\n",
       "            -2937791.19285588,   -767751.90918951,   1409502.09779334,\n",
       "             3578076.2477401 ,   5720640.87906986,   7818566.15674717,\n",
       "             9852142.50917731,  11800895.8274201 ,  13644000.14139858,\n",
       "            15360781.20559945,  16931293.02623857,  18336937.27764971,\n",
       "            19561084.92696028,  20589652.67311889,  21411586.13961066,\n",
       "            22019208.20745857,  22408403.91842409,  22578630.87115691,\n",
       "            22532762.72374363,  22276789.86633212,  21819412.86237165,\n",
       "            21171569.5868088 ,  20345936.31599232,  19356437.68819106,\n",
       "            18217792.34870882,  16945112.09338427,  15553563.89540076,\n",
       "            14058097.24577282,  12473234.12691639,  10812915.64117395,\n",
       "             9090397.56365732,   7318186.51398739,   5508008.67503014,\n",
       "             3670803.71103714,   1816737.50811591,    -44771.59497124,\n",
       "            -1905017.40753264,  -3755964.727614  ,  -5590205.04244692,\n",
       "            -7400911.05105625,  -9181791.43831798, -10927046.90758003,\n",
       "           -12631328.15157828, -14289696.19255031, -15897585.33715324,\n",
       "           -17450768.85688756, -18945327.40913673, -20377620.14856715,\n",
       "           -21744258.43620513, -23042082.02827146, -24268137.61435201,\n",
       "           -25419659.57130659, -26494052.80290091, -27488877.5435865 ,\n",
       "           -28401836.01677009, -29230760.85233255, -29973605.18441704,\n",
       "           -30628434.36818762, -31193419.27313364, -31666831.13047495,\n",
       "           -32047037.93333814, -32332502.41073949, -32521781.62021218,\n",
       "           -32613528.22938944, -32606493.58427473, -32499532.69158449,\n",
       "           -32291611.27472778, -31981815.09794609, -31569361.79106546,\n",
       "           -31053615.4482761 , -30434104.31821826, -29710541.94897952,\n",
       "           -28882852.19950981, -27951198.57690044, -26916018.40450381,\n",
       "           -25778062.36527804, -24538439.99259769, -23198671.68936523,\n",
       "           -21760747.83489738, -20227195.4732751 , -18601152.94752005,\n",
       "           -16886452.62651071, -15087711.53536944, -13210429.20854891,\n",
       "           -11261091.39667946,  -9247277.3305348 ,  -7177767.04016255,\n",
       "            -5062643.72179595,  -2913384.3491292 ,   -742929.70329671,\n",
       "             1434277.10498412,   3602296.46665836,   5743756.64591524,\n",
       "             7839991.11182589,   9871261.75017166,  11817077.03277707,\n",
       "            13656607.61631361,  15369192.48233098,  16934917.28335592,\n",
       "            18335234.48504695,  19553584.34790929,  20575969.23485314,\n",
       "            21391433.2718249 ,  21992406.05325546,  22374882.30238914,\n",
       "            22538426.97801929,  22486013.99153262,  22223723.03301819,\n",
       "            21760330.36287333,  21106834.5625846 ,  20275957.39860505,\n",
       "            19281654.50366423,  18138662.42093689,  16862099.55430023,\n",
       "            15467130.17312528,  13968693.71825282,  12381296.60186337,\n",
       "            10718860.44808566,   8994619.01011906,   7221055.4547914 ,\n",
       "             5409871.95836483,   3571984.29254526,   1717535.05473889,\n",
       "             -144079.75794894,  -2004175.12347918,  -3854735.70093831,\n",
       "            -5688371.46578275,  -7498272.21860067,  -9278162.38221736,\n",
       "           -11022257.08291278, -12725220.18676569, -14382124.7154583 ,\n",
       "           -15988415.88230225, -17539876.85569793, -19032597.26269808,\n",
       "           -20462944.38078539, -21827536.92415294, -23123221.30599311,\n",
       "           -24347050.24613333, -25496263.59042454, -26568271.21204805,\n",
       "           -27560637.87347374, -28471069.9398107 , -29297403.84877753,\n",
       "           -30037596.25882933, -30689715.81470204, -31251936.48854435,\n",
       "           -31722532.47482412, -32099874.63834867, -32382428.53714792,\n",
       "           -32568754.06582016, -32657506.7904734 , -32647441.07388102,\n",
       "           -32537415.11920176, -32326398.09287806, -32013479.52237901,\n",
       "           -31597881.2024805 , -31078971.88483563, -30456285.06954244,\n",
       "           -29729540.26381245, -28898668.12078014, -27963839.91940779,\n",
       "           -26925501.89185257, -25784414.94381167, -24541700.34075962,\n",
       "           -23198891.9408413 , -21757995.5326919 , -20221555.76901532,\n",
       "           -18592731.0550901 , -16875376.53072054, -15074134.94370667,\n",
       "           -13194534.71590265, -11243093.80791127,  -9227427.05257829,\n",
       "            -7156353.41292278,  -5039998.10516898,  -2889882.72297454,\n",
       "             -718994.47132225,   1458176.48148037,   3625644.43318225,\n",
       "             5765994.57351205,   7860522.81033543,   9889461.83575624,\n",
       "            11832302.34733452,  13668211.64474459,  15376542.38203459,\n",
       "            16937412.76199523,  18332327.39557816,  19544797.58943362,\n",
       "            20560913.42955392,  21369819.78465175,  21964055.24059817,\n",
       "            22339726.37378777,  22496507.44102727,  22437474.21387348,\n",
       "            22168796.89891519,  21699328.25951827,  21040127.99372833,\n",
       "            20203963.41345014,  19204820.90516656,  18057454.43982534,\n",
       "            16776988.39681373,  15378583.60832384,  13877168.68355631,\n",
       "            12287233.67720567,  10622679.97395165,   8896718.59203543,\n",
       "             7121808.59461272,   5309627.57003078,   3471066.88810934,\n",
       "             1616245.4189877 ,   -245463.55330589,  -2105396.48480346,\n",
       "            -3955558.1490112 ,  -5788577.21322665,  -7597660.73969637,\n",
       "            -9376549.01174599, -11119471.66916793, -12821105.81508946,\n",
       "           -14476536.51205906, -16081219.90326972, -17630949.06266469,\n",
       "           -19121822.58419352, -20550215.85673466, -21912754.92998879,\n",
       "           -23206292.85231684, -24427888.34965987, -25574786.71198703,\n",
       "           -26644402.75764925, -27634305.75470662, -28542206.19039303,\n",
       "           -29365944.29443099, -30103480.23826706, -30752885.95006024,\n",
       "           -31312338.50420017, -31780115.06418231, -32154589.37885752,\n",
       "           -32434229.85452385, -32617599.24922908, -32703356.06124137,\n",
       "           -32690257.71119704, -32577165.64724021, -32363052.53481615,\n",
       "           -32047011.72792234, -31628269.2567423 , -31106198.60774146,\n",
       "           -30480338.61634358, -29750414.83876896, -28916364.81758073,\n",
       "           -27978367.70336871, -26936878.74028623, -25792669.16203853,\n",
       "           -24546872.07184949, -23201034.88703081, -21757178.90514078,\n",
       "           -20217866.4796159 , -18586276.15874944, -16866285.91803087,\n",
       "           -15062564.2711529 , -13180668.54249489, -11227148.88203923,\n",
       "            -9209655.6596601 ,  -7137046.65206386,  -5019488.91128051,\n",
       "            -2868548.39069872,   -697258.37190633,   1479844.3631866 ,\n",
       "             3646728.56685075,   5785937.00800925,   7878728.78785496,\n",
       "             9905308.24520116,  11845149.20218563,  13677416.51763014,\n",
       "            15381477.39716691,  16937483.37154998,  18326991.8052985 ,\n",
       "            19533585.42709815,  20543442.14157853,  21345807.35143168,\n",
       "            21933328.12643531,  22302222.12574363,  22452271.93240689,\n",
       "            22386654.08299977,  22111628.16532007,  21636122.34782894,\n",
       "            20971256.44806679,  20129842.4715165 ,  19125896.87599614,\n",
       "            17974190.55332952,  16689853.51871625,  15288042.97651058,\n",
       "            13783676.63902212,  12191228.23813578,  10524579.02898946,\n",
       "             8796917.45775706,   7020678.68085257,   5207515.91429033,\n",
       "             3368296.34826708,   1513115.34568264,   -348676.31104776,\n",
       "            -2208436.357347  ,  -4058189.49781093,  -5890582.92490752,\n",
       "            -7698840.8129164 ,  -9476719.17281558, -11218462.04112939,\n",
       "           -12918759.65632982, -14572709.03405339, -16175777.17229564,\n",
       "           -17723766.986923  , -19212785.985406  , -20639217.62372216,\n",
       "           -21999695.25076346, -23291078.52069797, -24510432.14222723,\n",
       "           -25655006.83122791, -26722222.33737026, -27709652.42411909,\n",
       "           -28615011.69370741, -29436144.16328542, -30171013.5148534 ,\n",
       "           -30817694.95938683, -31374368.67453998, -31839314.79539753,\n",
       "           -32210909.95896918, -32487625.42561304, -32668026.82452101,\n",
       "           -32750775.59604389, -32734632.23124935, -32618461.43898576,\n",
       "           -32401239.40315319, -32082063.32811487, -31660163.5083958 ,\n",
       "           -31134918.20006103, -30505871.6152879 , -29772755.40816983,\n",
       "           -28935514.06777716, -27994334.68234327, -26949681.5835923 ,\n",
       "           -25802336.41882641, -24553444.22483117, -23204566.08397728,\n",
       "           -21757738.91808977, -20215542.90485358, -18581176.86513522] km>"
      ]
     },
     "execution_count": 18,
     "metadata": {},
     "output_type": "execute_result"
    }
   ],
   "source": [
    "teste[2]"
   ]
  },
  {
   "cell_type": "code",
   "execution_count": 6,
   "id": "smaller-texture",
   "metadata": {},
   "outputs": [],
   "source": [
    "Sky_coords = SkyCoord(coords)\n",
    "baricentric = Sky_coords.transform_to('barycentricmeanecliptic')"
   ]
  },
  {
   "cell_type": "code",
   "execution_count": 7,
   "id": "2bbb004c-b859-4839-83b3-a3c32378fd90",
   "metadata": {},
   "outputs": [
    {
     "data": {
      "text/plain": [
       "astropy.coordinates.sky_coordinate.SkyCoord"
      ]
     },
     "execution_count": 7,
     "metadata": {},
     "output_type": "execute_result"
    }
   ],
   "source": [
    "type(Sky_coords)"
   ]
  },
  {
   "cell_type": "code",
   "execution_count": 13,
   "id": "1187a226-1726-4909-899a-96eb5c32e0ac",
   "metadata": {},
   "outputs": [
    {
     "data": {
      "text/plain": [
       "<SkyCoord (BarycentricMeanEcliptic: equinox=J2000.000): (lon, lat, distance) in (deg, deg, km)\n",
       "    (284.50556647, -5.94861207, 66829737.92087597)>"
      ]
     },
     "execution_count": 13,
     "metadata": {},
     "output_type": "execute_result"
    }
   ],
   "source": [
    "baricentric[0]"
   ]
  },
  {
   "cell_type": "code",
   "execution_count": 22,
   "id": "b0246e44-7807-468e-88f7-8c194aabf4be",
   "metadata": {},
   "outputs": [
    {
     "data": {
      "text/plain": [
       "<SkyCoord (BarycentricMeanEcliptic: equinox=J2000.000): (lon, lat, distance) in (deg, deg, km)\n",
       "    (284.50556647, -5.94861207, 66829737.92087597)>"
      ]
     },
     "execution_count": 22,
     "metadata": {},
     "output_type": "execute_result"
    }
   ],
   "source": [
    "Sky_coords.default_representation()"
   ]
  },
  {
   "cell_type": "code",
   "execution_count": 17,
   "id": "6daf1745-ae73-4db0-8107-d41717de899b",
   "metadata": {},
   "outputs": [],
   "source": [
    "Sky_coords.transform_to('barycentricmeanecliptic');"
   ]
  },
  {
   "cell_type": "code",
   "execution_count": 18,
   "id": "973ff312-b6ce-4b6a-93d2-60b30ad35840",
   "metadata": {},
   "outputs": [
    {
     "data": {
      "text/plain": [
       "<SkyCoord (ICRS): (ra, dec, distance) in (deg, deg, km)\n",
       "    (286.47784436, -28.56191172, 66829737.92087599)>"
      ]
     },
     "execution_count": 18,
     "metadata": {},
     "output_type": "execute_result"
    }
   ],
   "source": [
    "Sky_coords[0]"
   ]
  },
  {
   "cell_type": "code",
   "execution_count": null,
   "id": "62ccd167-066e-4a20-b28a-04ab3c5fa3bf",
   "metadata": {},
   "outputs": [],
   "source": []
  },
  {
   "cell_type": "code",
   "execution_count": 11,
   "id": "macro-collectible",
   "metadata": {},
   "outputs": [],
   "source": [
    "x, y, z = baricentric.cartesian.xyz/(10**6)"
   ]
  },
  {
   "cell_type": "code",
   "execution_count": 14,
   "id": "senior-bangkok",
   "metadata": {},
   "outputs": [
    {
     "data": {
      "image/png": "[encoded data removed]",
      "text/plain": [
       "<Figure size 432x288 with 1 Axes>"
      ]
     },
     "metadata": {
      "needs_background": "light"
     },
     "output_type": "display_data"
    }
   ],
   "source": [
    "plt.plot(x,y)\n",
    "plt.title('mercury')\n",
    "plt.show()"
   ]
  },
  {
   "cell_type": "markdown",
   "id": "stylish-privacy",
   "metadata": {},
   "source": [
    "Playing with all planets, single point!"
   ]
  },
  {
   "cell_type": "code",
   "execution_count": 10,
   "id": "original-wright",
   "metadata": {},
   "outputs": [],
   "source": [
    "t = Time([\"2021-09-16 10:00\"])"
   ]
  },
  {
   "cell_type": "code",
   "execution_count": 15,
   "id": "written-judge",
   "metadata": {},
   "outputs": [],
   "source": [
    "xyz = [ get_body_barycentric(body, t) for body in bodies_list ]"
   ]
  },
  {
   "cell_type": "code",
   "execution_count": 13,
   "id": "apparent-arena",
   "metadata": {},
   "outputs": [
    {
     "name": "stdout",
     "output_type": "stream",
     "text": [
      "12\n"
     ]
    }
   ],
   "source": [
    "num_bodies = len(xyz)\n",
    "print(num_bodies)\n",
    "x = [ xyz[n].x.value/10**6 for n in range(num_bodies) ]\n",
    "y = [ xyz[n].y.value/10**6 for n in range(num_bodies) ]\n",
    "z = [ xyz[n].z.value/10**6 for n in range(num_bodies) ]"
   ]
  },
  {
   "cell_type": "code",
   "execution_count": 16,
   "id": "annoying-invitation",
   "metadata": {},
   "outputs": [
    {
     "data": {
      "text/plain": [
       "<mpl_toolkits.mplot3d.art3d.Path3DCollection at 0x7fdf9f379160>"
      ]
     },
     "execution_count": 16,
     "metadata": {},
     "output_type": "execute_result"
    },
    {
     "data": {
      "image/png": "[encoded data removed]",
      "text/plain": [
       "<Figure size 432x288 with 1 Axes>"
      ]
     },
     "metadata": {
      "needs_background": "light"
     },
     "output_type": "display_data"
    }
   ],
   "source": [
    "import matplotlib.pyplot as plt\n",
    "from mpl_toolkits.mplot3d import Axes3D\n",
    "\n",
    "fig = plt.figure()\n",
    "ax = fig.add_subplot(projection='3d')\n",
    "ax.scatter(x, y, z)"
   ]
  },
  {
   "cell_type": "code",
   "execution_count": null,
   "id": "naval-arcade",
   "metadata": {},
   "outputs": [],
   "source": []
  },
  {
   "cell_type": "markdown",
   "id": "respective-ownership",
   "metadata": {},
   "source": [
    "Playing with various times for a single planet"
   ]
  },
  {
   "cell_type": "code",
   "execution_count": 28,
   "id": "chicken-proceeding",
   "metadata": {},
   "outputs": [
    {
     "data": {
      "text/plain": [
       "'venus'"
      ]
     },
     "execution_count": 28,
     "metadata": {},
     "output_type": "execute_result"
    }
   ],
   "source": [
    "body = bodies_list[2]\n",
    "body"
   ]
  },
  {
   "cell_type": "code",
   "execution_count": 29,
   "id": "athletic-iraqi",
   "metadata": {},
   "outputs": [],
   "source": [
    "ts = Time([\"2021-09-07 00:00\", \"2021-09-08 00:00\", \"2021-09-09 00:00\"])"
   ]
  },
  {
   "cell_type": "code",
   "execution_count": 70,
   "id": "random-check",
   "metadata": {},
   "outputs": [],
   "source": [
    "coords = get_body_barycentric(body,ts)\n",
    "\n",
    "SC_coords = SkyCoord(coords,frame='icrs')\n",
    "\n",
    "SC_coords"
   ]
  },
  {
   "cell_type": "code",
   "execution_count": null,
   "id": "personal-capability",
   "metadata": {},
   "outputs": [],
   "source": [
    "SC_coords"
   ]
  }
 ],
 "metadata": {
  "kernelspec": {
   "display_name": "env_orbits",
   "language": "python",
   "name": "env_orbits"
  },
  "language_info": {
   "codemirror_mode": {
    "name": "ipython",
    "version": 3
   },
   "file_extension": ".py",
   "mimetype": "text/x-python",
   "name": "python",
   "nbconvert_exporter": "python",
   "pygments_lexer": "ipython3",
   "version": "3.8.10"
  }
 },
 "nbformat": 4,
 "nbformat_minor": 5
}

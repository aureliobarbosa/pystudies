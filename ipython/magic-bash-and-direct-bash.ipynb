{
 "cells": [
  {
   "cell_type": "code",
   "execution_count": 2,
   "metadata": {},
   "outputs": [
    {
     "name": "stdout",
     "output_type": "stream",
     "text": [
      "Bose-Hubbard\n",
      "Husimi\n",
      "importing-python-same-directory.ipynb\n",
      "Old\n",
      "print_text.py\n",
      "__pycache__\n",
      "Untitled.ipynb\n",
      "/home/aureliobarbosa/Dropbox/posdoc2018/code\n"
     ]
    }
   ],
   "source": [
    "%%bash\n",
    "\n",
    "ls\n",
    "pwd"
   ]
  },
  {
   "cell_type": "code",
   "execution_count": 3,
   "metadata": {},
   "outputs": [
    {
     "name": "stdout",
     "output_type": "stream",
     "text": [
      "'2018 - Marco Barbosa - SOCIAL NETWORKS FOR APPLYING DESIGN THINKING TO THE SCIENTIFIC METHOD.odt'\n",
      " cnpq\n",
      " code\n",
      " literature\n",
      " nohup.out\n",
      "'prestação de contas'\n",
      "'Residual Etropy Scenarium.odg'\n",
      "/home/aureliobarbosa/Dropbox/posdoc2018\n",
      "/home/aureliobarbosa/Dropbox/posdoc2018/code\n"
     ]
    }
   ],
   "source": [
    "!cd ..; ls;pwd\n",
    "!pwd"
   ]
  },
  {
   "cell_type": "code",
   "execution_count": null,
   "metadata": {},
   "outputs": [],
   "source": []
  }
 ],
 "metadata": {
  "kernelspec": {
   "display_name": "Python 3",
   "language": "python",
   "name": "python3"
  },
  "language_info": {
   "codemirror_mode": {
    "name": "ipython",
    "version": 3
   },
   "file_extension": ".py",
   "mimetype": "text/x-python",
   "name": "python",
   "nbconvert_exporter": "python",
   "pygments_lexer": "ipython3",
   "version": "3.7.2"
  }
 },
 "nbformat": 4,
 "nbformat_minor": 2
}

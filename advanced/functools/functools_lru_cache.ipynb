{
 "cells": [
  {
   "cell_type": "code",
   "execution_count": 1,
   "id": "electrical-blogger",
   "metadata": {},
   "outputs": [],
   "source": [
    "from functools import lru_cache\n",
    "import numpy as np\n",
    "import random"
   ]
  },
  {
   "cell_type": "code",
   "execution_count": 6,
   "id": "accompanied-closing",
   "metadata": {},
   "outputs": [],
   "source": [
    "def square(x):\n",
    "    return x*x\n",
    "\n",
    "@lru_cache(maxsize=100)\n",
    "def square_cache(x):\n",
    "    return x*x"
   ]
  },
  {
   "cell_type": "code",
   "execution_count": 3,
   "id": "august-adobe",
   "metadata": {},
   "outputs": [],
   "source": [
    "y_random = np.random.randint(0,100,10_000);"
   ]
  },
  {
   "cell_type": "code",
   "execution_count": 4,
   "id": "vocal-monaco",
   "metadata": {},
   "outputs": [
    {
     "name": "stdout",
     "output_type": "stream",
     "text": [
      "6.22 ms ± 32.2 µs per loop (mean ± std. dev. of 7 runs, 100 loops each)\n"
     ]
    }
   ],
   "source": [
    "# Library random with implicit generator - sum of squares\n",
    "%timeit sum( square(random.randint(0, 99 )) for _ in range(10_000) )"
   ]
  },
  {
   "cell_type": "code",
   "execution_count": 7,
   "id": "plain-opposition",
   "metadata": {},
   "outputs": [
    {
     "name": "stdout",
     "output_type": "stream",
     "text": [
      "5.63 ms ± 7.82 µs per loop (mean ± std. dev. of 7 runs, 100 loops each)\n"
     ]
    }
   ],
   "source": [
    "# Library random with implicit generator and cache- sum of squares\n",
    "%timeit sum( square_cache(random.randint(0, 99 )) for _ in range(10_000) )"
   ]
  },
  {
   "cell_type": "code",
   "execution_count": 8,
   "id": "fitting-island",
   "metadata": {},
   "outputs": [
    {
     "name": "stdout",
     "output_type": "stream",
     "text": [
      "532 µs ± 1.03 µs per loop (mean ± std. dev. of 7 runs, 1000 loops each)\n"
     ]
    }
   ],
   "source": [
    "# Library np.random with implicit generator - sum of squares\n",
    "%timeit sum(square(y_random))"
   ]
  },
  {
   "cell_type": "code",
   "execution_count": 9,
   "id": "north-dancing",
   "metadata": {},
   "outputs": [
    {
     "name": "stdout",
     "output_type": "stream",
     "text": [
      "11.3 µs ± 15.7 ns per loop (mean ± std. dev. of 7 runs, 100000 loops each)\n"
     ]
    }
   ],
   "source": [
    "# Library np.random with numpy sum - sum of squares\n",
    "%timeit square(y_random).sum()"
   ]
  },
  {
   "cell_type": "code",
   "execution_count": 10,
   "id": "irish-glass",
   "metadata": {},
   "outputs": [
    {
     "name": "stdout",
     "output_type": "stream",
     "text": [
      "1.54 ms ± 38.1 µs per loop (mean ± std. dev. of 7 runs, 1000 loops each)\n"
     ]
    }
   ],
   "source": [
    "%timeit np.fromiter( ( square_cache(x) for x in y_random ),np.int32).sum()"
   ]
  },
  {
   "cell_type": "code",
   "execution_count": null,
   "id": "serial-baking",
   "metadata": {},
   "outputs": [],
   "source": []
  }
 ],
 "metadata": {
  "kernelspec": {
   "display_name": "Python 3",
   "language": "python",
   "name": "python3"
  },
  "language_info": {
   "codemirror_mode": {
    "name": "ipython",
    "version": 3
   },
   "file_extension": ".py",
   "mimetype": "text/x-python",
   "name": "python",
   "nbconvert_exporter": "python",
   "pygments_lexer": "ipython3",
   "version": "3.8.10"
  }
 },
 "nbformat": 4,
 "nbformat_minor": 5
}

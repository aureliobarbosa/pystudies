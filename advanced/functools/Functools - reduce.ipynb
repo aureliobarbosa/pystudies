{
 "cells": [
  {
   "cell_type": "markdown",
   "metadata": {},
   "source": [
    "# functools.reduce()\n",
    "\n",
    "Few examples on how to use the function reduce. \n",
    "All examples will be applyied t a simple list of numbers.\n",
    "\n",
    "Best explanation I found for this function was obtained in the site [Python Tips](http://book.pythontips.com/en/latest/map_filter.html).\n",
    "\n",
    "\n"
   ]
  },
  {
   "cell_type": "code",
   "execution_count": 23,
   "metadata": {},
   "outputs": [],
   "source": [
    "import math as m\n",
    "import functools as ftools"
   ]
  },
  {
   "cell_type": "code",
   "execution_count": 25,
   "metadata": {},
   "outputs": [],
   "source": [
    "numbers = list(range(0,10))"
   ]
  },
  {
   "cell_type": "code",
   "execution_count": 26,
   "metadata": {},
   "outputs": [
    {
     "name": "stdout",
     "output_type": "stream",
     "text": [
      "multiplying numbers: [0, 1, 2, 3, 4, 5, 6, 7, 8, 9] results in 0\n"
     ]
    }
   ],
   "source": [
    "mult = ftools.reduce(lambda x,y: x*y, numbers)\n",
    "print(\"multiplying numbers: %s results in %d\" % (numbers, mult) )"
   ]
  },
  {
   "cell_type": "code",
   "execution_count": 27,
   "metadata": {},
   "outputs": [
    {
     "name": "stdout",
     "output_type": "stream",
     "text": [
      "adding numbers: [0, 1, 2, 3, 4, 5, 6, 7, 8, 9] results in 45\n"
     ]
    }
   ],
   "source": [
    "my_sum = ftools.reduce(lambda x,y: x+y, numbers)\n",
    "print(\"adding numbers: %s results in %d\" % (numbers, my_sum) )"
   ]
  },
  {
   "cell_type": "markdown",
   "metadata": {},
   "source": [
    "**Consider the sequence**\n",
    "\n",
    "$F(0)=0$\n",
    "\n",
    "$F(n) = F(n-1)+n$\n",
    "\n",
    "I was thinking on how to work it out a way to write it using `reduce`, it didn't work, but oh yeah... \n",
    "now it is working!!!! (CHECK)"
   ]
  },
  {
   "cell_type": "code",
   "execution_count": 31,
   "metadata": {},
   "outputs": [],
   "source": [
    "seq = ftools.reduce(lambda x,y: x + [sum(x) + y],numbers,[])"
   ]
  },
  {
   "cell_type": "code",
   "execution_count": 32,
   "metadata": {},
   "outputs": [
    {
     "data": {
      "text/plain": [
       "[0, 1, 3, 7, 15, 31, 63, 127, 255, 511]"
      ]
     },
     "execution_count": 32,
     "metadata": {},
     "output_type": "execute_result"
    }
   ],
   "source": [
    "seq"
   ]
  },
  {
   "cell_type": "code",
   "execution_count": null,
   "metadata": {},
   "outputs": [],
   "source": []
  }
 ],
 "metadata": {
  "kernelspec": {
   "display_name": "Python 3",
   "language": "python",
   "name": "python3"
  },
  "language_info": {
   "codemirror_mode": {
    "name": "ipython",
    "version": 3
   },
   "file_extension": ".py",
   "mimetype": "text/x-python",
   "name": "python",
   "nbconvert_exporter": "python",
   "pygments_lexer": "ipython3",
   "version": "3.7.6"
  }
 },
 "nbformat": 4,
 "nbformat_minor": 4
}

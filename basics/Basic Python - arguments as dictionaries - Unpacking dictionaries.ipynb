{
 "cells": [
  {
   "cell_type": "markdown",
   "metadata": {},
   "source": [
    "# Argument passage in python"
   ]
  },
  {
   "cell_type": "markdown",
   "metadata": {},
   "source": [
    "Passing Dictionaries as parameters to functions\n",
    "\n",
    "Take a look on [StackOverflow](https://stackoverflow.com/questions/334655/passing-a-dictionary-to-a-function-in-python-as-keyword-parameters) and on [Python Documentation](https://docs.python.org/2/tutorial/controlflow.html#more-on-defining-functions).\n",
    "\n"
   ]
  },
  {
   "cell_type": "code",
   "execution_count": 2,
   "metadata": {},
   "outputs": [],
   "source": [
    "# Below is my example for reading\n",
    "def my_print_dict(a=0,**kargs):\n",
    "    print('a', a)    \n",
    "    for key in kargs:\n",
    "        print(key, kargs[key])\n",
    "        \n",
    "    print(type(kargs),kargs)        \n",
    "\n",
    "    \n",
    "my_print_dict(a=90,b=1,c=2,d=1000)"
   ]
  },
  {
   "cell_type": "code",
   "execution_count": 49,
   "metadata": {},
   "outputs": [
    {
     "name": "stdout",
     "output_type": "stream",
     "text": [
      "a 90\n",
      "b 1\n",
      "c 2\n",
      "d 1000\n",
      "<class 'dict'> {'b': 1, 'c': 2, 'd': 1000}\n"
     ]
    }
   ],
   "source": []
  },
  {
   "cell_type": "code",
   "execution_count": 54,
   "metadata": {},
   "outputs": [
    {
     "name": "stdout",
     "output_type": "stream",
     "text": [
      "<class 'dict'>\n"
     ]
    }
   ],
   "source": [
    "param = dict(a=1,b=2,c=3)\n",
    "print(type(param))"
   ]
  },
  {
   "cell_type": "code",
   "execution_count": 1,
   "metadata": {},
   "outputs": [
    {
     "ename": "NameError",
     "evalue": "name 'my_print_dict' is not defined",
     "output_type": "error",
     "traceback": [
      "\u001b[0;31m---------------------------------------------------------------------------\u001b[0m",
      "\u001b[0;31mNameError\u001b[0m                                 Traceback (most recent call last)",
      "\u001b[0;32m<ipython-input-1-a773a1ec6d42>\u001b[0m in \u001b[0;36m<module>\u001b[0;34m\u001b[0m\n\u001b[0;32m----> 1\u001b[0;31m \u001b[0mmy_print_dict\u001b[0m\u001b[0;34m(\u001b[0m\u001b[0ma\u001b[0m\u001b[0;34m=\u001b[0m\u001b[0;36m0\u001b[0m\u001b[0;34m)\u001b[0m\u001b[0;34m\u001b[0m\u001b[0;34m\u001b[0m\u001b[0m\n\u001b[0m",
      "\u001b[0;31mNameError\u001b[0m: name 'my_print_dict' is not defined"
     ]
    }
   ],
   "source": [
    "my_print_dict(a=0)"
   ]
  },
  {
   "cell_type": "code",
   "execution_count": null,
   "metadata": {},
   "outputs": [],
   "source": []
  },
  {
   "cell_type": "code",
   "execution_count": 32,
   "metadata": {},
   "outputs": [],
   "source": [
    "par = dict( t = 0.02,       # Dictionary of parameters (with standard values)\n",
    "            mu=-2.00,\n",
    "            ep= 1.00, \n",
    "            et= 0.00 )   \n",
    "\n",
    "a=1\n",
    "def teste (a , **p):\n",
    "    if not p:\n",
    "        p = par\n",
    "    print(a, p)"
   ]
  },
  {
   "cell_type": "code",
   "execution_count": 33,
   "metadata": {},
   "outputs": [
    {
     "name": "stdout",
     "output_type": "stream",
     "text": [
      "1 {'t': 0.02, 'mu': -2.0, 'ep': 1.0, 'et': 0.0}\n"
     ]
    }
   ],
   "source": [
    "teste(1, )"
   ]
  },
  {
   "cell_type": "code",
   "execution_count": null,
   "metadata": {},
   "outputs": [],
   "source": []
  }
 ],
 "metadata": {
  "kernelspec": {
   "display_name": "Python 3",
   "language": "python",
   "name": "python3"
  },
  "language_info": {
   "codemirror_mode": {
    "name": "ipython",
    "version": 3
   },
   "file_extension": ".py",
   "mimetype": "text/x-python",
   "name": "python",
   "nbconvert_exporter": "python",
   "pygments_lexer": "ipython3",
   "version": "3.7.6"
  }
 },
 "nbformat": 4,
 "nbformat_minor": 4
}

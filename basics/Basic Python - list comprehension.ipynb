{
 "cells": [
  {
   "cell_type": "code",
   "execution_count": 13,
   "metadata": {},
   "outputs": [
    {
     "name": "stdin",
     "output_type": "stream",
     "text": [
      "Once deleted, variables cannot be recovered. Proceed (y/[n])?  y\n"
     ]
    }
   ],
   "source": [
    "reset"
   ]
  },
  {
   "cell_type": "code",
   "execution_count": 14,
   "metadata": {},
   "outputs": [],
   "source": [
    "import math as m\n",
    "from math import pi"
   ]
  },
  {
   "cell_type": "code",
   "execution_count": 15,
   "metadata": {},
   "outputs": [],
   "source": [
    "theta = [2.0*m.pi/n for n in range(1,101)]"
   ]
  },
  {
   "cell_type": "code",
   "execution_count": 23,
   "metadata": {},
   "outputs": [
    {
     "name": "stdout",
     "output_type": "stream",
     "text": [
      "[0.06283185307179587, 0.06346651825433926, 0.0641141357875468, 0.06477510625958337, 0.06544984694978735, 0.06613879270715355, 0.06684239688488922, 0.06756113233526437, 0.06829549246934333, 0.06904599238658886, 0.06981317007977318, 0.07059758772111895, 0.07139983303613166, 0.07222052077217915, 0.07306029426953008, 0.07391982714328925, 0.07479982508547127, 0.07570102779734442, 0.07662421106316569, 0.07757018897752575, 0.07853981633974483, 0.07953399123012135, 0.08055365778435367, 0.08159980918415047, 0.08267349088394192, 0.08377580409572781, 0.08490790955648089, 0.08607103160519981, 0.08726646259971647, 0.08849556770675474, 0.08975979010256552, 0.0910606566257911, 0.09239978392911156, 0.09377888518178487, 0.09519977738150888, 0.0966643893412244, 0.09817477042468103, 0.09973310011396169, 0.10134169850289655, 0.10300303782261616, 0.10471975511965977, 0.10649466622338281, 0.10833078115826873, 0.11023132117858923, 0.1121997376282069, 0.11423973285781065, 0.11635528346628864, 0.11855066617319975, 0.1208304866765305, 0.12319971190548208, 0.12566370614359174, 0.1282282715750936, 0.1308996938995747, 0.13368479376977843, 0.13659098493868665, 0.13962634015954636, 0.14279966607226333, 0.14612058853906015, 0.14959965017094254, 0.15324842212633139, 0.15707963267948966, 0.16110731556870733, 0.16534698176788384, 0.16981581911296179, 0.17453292519943295, 0.17951958020513104, 0.18479956785822313, 0.19039955476301776, 0.19634954084936207, 0.2026833970057931, 0.20943951023931953, 0.21666156231653746, 0.2243994752564138, 0.23271056693257727, 0.241660973353061, 0.25132741228718347, 0.2617993877991494, 0.2731819698773733, 0.28559933214452665, 0.2991993003418851, 0.3141592653589793, 0.3306939635357677, 0.3490658503988659, 0.36959913571644626, 0.39269908169872414, 0.41887902047863906, 0.4487989505128276, 0.483321946706122, 0.5235987755982988, 0.5711986642890533, 0.6283185307179586, 0.6981317007977318, 0.7853981633974483, 0.8975979010256552, 1.0471975511965976, 1.2566370614359172, 1.5707963267948966, 2.0943951023931953, 3.141592653589793, 6.283185307179586]\n"
     ]
    }
   ],
   "source": [
    "print(theta);"
   ]
  },
  {
   "cell_type": "code",
   "execution_count": 22,
   "metadata": {},
   "outputs": [],
   "source": [
    "theta.reverse()"
   ]
  },
  {
   "cell_type": "code",
   "execution_count": 24,
   "metadata": {},
   "outputs": [
    {
     "data": {
      "text/plain": [
       "100"
      ]
     },
     "execution_count": 24,
     "metadata": {},
     "output_type": "execute_result"
    }
   ],
   "source": [
    "len(theta)"
   ]
  },
  {
   "cell_type": "code",
   "execution_count": 25,
   "metadata": {},
   "outputs": [],
   "source": [
    "import numpy as np"
   ]
  },
  {
   "cell_type": "code",
   "execution_count": 28,
   "metadata": {},
   "outputs": [],
   "source": [
    "theta_array = np.array(theta);"
   ]
  },
  {
   "cell_type": "markdown",
   "metadata": {},
   "source": [
    "It should be possible to start an array with a list comprehension."
   ]
  },
  {
   "cell_type": "code",
   "execution_count": 29,
   "metadata": {},
   "outputs": [
    {
     "data": {
      "text/plain": [
       "numpy.ndarray"
      ]
     },
     "execution_count": 29,
     "metadata": {},
     "output_type": "execute_result"
    }
   ],
   "source": [
    "type(theta_array)"
   ]
  },
  {
   "cell_type": "code",
   "execution_count": 30,
   "metadata": {},
   "outputs": [],
   "source": [
    "array2_theta = np.array( [2.0*m.pi/n for n in range(1,101)]  )"
   ]
  },
  {
   "cell_type": "code",
   "execution_count": 31,
   "metadata": {},
   "outputs": [
    {
     "data": {
      "text/plain": [
       "100"
      ]
     },
     "execution_count": 31,
     "metadata": {},
     "output_type": "execute_result"
    }
   ],
   "source": [
    "len(array2_theta)"
   ]
  },
  {
   "cell_type": "markdown",
   "metadata": {},
   "source": [
    "But this is similar to using `np.linspace(0,pi,100)`. The difference being the zero, but it can be included easily."
   ]
  },
  {
   "cell_type": "code",
   "execution_count": 33,
   "metadata": {},
   "outputs": [
    {
     "name": "stdout",
     "output_type": "stream",
     "text": [
      "3.141592653589793\n"
     ]
    }
   ],
   "source": [
    "print(np.pi)"
   ]
  },
  {
   "cell_type": "code",
   "execution_count": 36,
   "metadata": {},
   "outputs": [],
   "source": [
    "array3_theta = np.linspace(0,2*np.pi,100)"
   ]
  },
  {
   "cell_type": "code",
   "execution_count": 37,
   "metadata": {},
   "outputs": [
    {
     "name": "stdout",
     "output_type": "stream",
     "text": [
      "[0.         0.06346652 0.12693304 0.19039955 0.25386607 0.31733259\n",
      " 0.38079911 0.44426563 0.50773215 0.57119866 0.63466518 0.6981317\n",
      " 0.76159822 0.82506474 0.88853126 0.95199777 1.01546429 1.07893081\n",
      " 1.14239733 1.20586385 1.26933037 1.33279688 1.3962634  1.45972992\n",
      " 1.52319644 1.58666296 1.65012947 1.71359599 1.77706251 1.84052903\n",
      " 1.90399555 1.96746207 2.03092858 2.0943951  2.15786162 2.22132814\n",
      " 2.28479466 2.34826118 2.41172769 2.47519421 2.53866073 2.60212725\n",
      " 2.66559377 2.72906028 2.7925268  2.85599332 2.91945984 2.98292636\n",
      " 3.04639288 3.10985939 3.17332591 3.23679243 3.30025895 3.36372547\n",
      " 3.42719199 3.4906585  3.55412502 3.61759154 3.68105806 3.74452458\n",
      " 3.8079911  3.87145761 3.93492413 3.99839065 4.06185717 4.12532369\n",
      " 4.1887902  4.25225672 4.31572324 4.37918976 4.44265628 4.5061228\n",
      " 4.56958931 4.63305583 4.69652235 4.75998887 4.82345539 4.88692191\n",
      " 4.95038842 5.01385494 5.07732146 5.14078798 5.2042545  5.26772102\n",
      " 5.33118753 5.39465405 5.45812057 5.52158709 5.58505361 5.64852012\n",
      " 5.71198664 5.77545316 5.83891968 5.9023862  5.96585272 6.02931923\n",
      " 6.09278575 6.15625227 6.21971879 6.28318531]\n"
     ]
    }
   ],
   "source": [
    "print(array3_theta)"
   ]
  },
  {
   "cell_type": "code",
   "execution_count": 38,
   "metadata": {},
   "outputs": [
    {
     "data": {
      "text/plain": [
       "100"
      ]
     },
     "execution_count": 38,
     "metadata": {},
     "output_type": "execute_result"
    }
   ],
   "source": [
    "len(array3_theta)"
   ]
  },
  {
   "cell_type": "code",
   "execution_count": null,
   "metadata": {},
   "outputs": [],
   "source": []
  }
 ],
 "metadata": {
  "kernelspec": {
   "display_name": "Python 3",
   "language": "python",
   "name": "python3"
  },
  "language_info": {
   "codemirror_mode": {
    "name": "ipython",
    "version": 3
   },
   "file_extension": ".py",
   "mimetype": "text/x-python",
   "name": "python",
   "nbconvert_exporter": "python",
   "pygments_lexer": "ipython3",
   "version": "3.7.0"
  }
 },
 "nbformat": 4,
 "nbformat_minor": 2
}

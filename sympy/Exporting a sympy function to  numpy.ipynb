{
 "cells": [
  {
   "cell_type": "markdown",
   "metadata": {},
   "source": [
    "# Exporting a Sympy function to Numpy\n",
    "\n",
    "Many problems we encounter in physics you can end up with an analytical function, let's say \n",
    "\n",
    "$f(x)= \\frac{\\sum_{n=1}^{1024} a_n x^n}{\\sum_{n=1}^{1024} b_n x^n}$\n",
    "\n",
    "over some assisted mathematical operations are going to be performed, such as automatic  derivatives or integral. Now, suppose that after obtaining $f(x)$ you need to evaluate this expression a million times! To evaluate that expression on Sympy is very time and a better strategy would be to convert $f(x)$ to some numerical library, and then calculate it. \n",
    "\n",
    "Here I will show how to create a function on Sympy and then convert it to Numpy, which is an standard for numerical calculations on Python, by using the sympy `lambdify` function. After that we consider the expression for an ideal paramagnet to show you that huge performance increase can be obtained with the use of `lambdify`. Although our example is simple, it illustrates our goal, paving the way to more complex applications. "
   ]
  },
  {
   "cell_type": "code",
   "execution_count": 18,
   "metadata": {},
   "outputs": [],
   "source": [
    "from sympy import lambdify, sympify, Symbol, tanh\n",
    "import numpy as np\n",
    "import matplotlib.pyplot as plt"
   ]
  },
  {
   "cell_type": "markdown",
   "metadata": {},
   "source": [
    "As an example, let us consider the magnetization $m(T,H)$ of an ideal paramagnet at temperature $T$ and magnetic field $H$:\n",
    "\n",
    "$m(H,T) = \\mu_0 \\tanh \\left ( \\frac{ \\mu_0 H }{k_B T }  \\right)$, \n",
    "\n",
    "where $\\mu_0 = xxx$ and $k_B= xxx$ are constants. Let us consider $x = \\mu_0 H /k_B T$ and, for simplicity, we will choose $\\mu_B = 1.0$. With these assumptions we have just:\n",
    "\n",
    "$m(x) = \\tanh (x) $,\n",
    "\n",
    "which is quite simple, but will be usefull for our purpose.\n",
    "\n",
    "---\n",
    "\n",
    "We start defining a Sympy function, this can be done on at least two ways that I have shown below."
   ]
  },
  {
   "cell_type": "code",
   "execution_count": 19,
   "metadata": {},
   "outputs": [],
   "source": [
    "# Alternative 1\n",
    "x = Symbol('x')\n",
    "m = tanh(x)"
   ]
  },
  {
   "cell_type": "code",
   "execution_count": 20,
   "metadata": {},
   "outputs": [],
   "source": [
    "# Alternative 2\n",
    "m = sympify('tanh(x)')"
   ]
  },
  {
   "cell_type": "markdown",
   "metadata": {},
   "source": [
    "Next we convert this expression to numpy expression using the sympy function lambdify:"
   ]
  },
  {
   "cell_type": "code",
   "execution_count": 21,
   "metadata": {},
   "outputs": [],
   "source": [
    "# Converting both the function and its derivative to numpy using lambdify()\n",
    "np_m = lambdify('x', m)"
   ]
  },
  {
   "cell_type": "markdown",
   "metadata": {},
   "source": [
    "Let's check the time it takes to calculate "
   ]
  },
  {
   "cell_type": "code",
   "execution_count": 22,
   "metadata": {},
   "outputs": [
    {
     "name": "stdout",
     "output_type": "stream",
     "text": [
      "72.6 µs ± 4.84 µs per loop (mean ± std. dev. of 7 runs, 10000 loops each)\n",
      "903 ns ± 35.7 ns per loop (mean ± std. dev. of 7 runs, 1000000 loops each)\n"
     ]
    }
   ],
   "source": [
    "xv = 0.01\n",
    "\n",
    "#sympy\n",
    "%timeit mv = m.subs({'x': xv})\n",
    "\n",
    "#numpy \n",
    "%timeit mv = np_m(xv)"
   ]
  },
  {
   "cell_type": "markdown",
   "metadata": {},
   "source": [
    "Thus, evaluating an expression in Numpy is about 75 times faster than Sympy! \n",
    "Let's see how that goes for multiple expressions!"
   ]
  },
  {
   "cell_type": "code",
   "execution_count": 27,
   "metadata": {},
   "outputs": [],
   "source": [
    "x = np.arange(-10.0,10.0,0.02)"
   ]
  },
  {
   "cell_type": "markdown",
   "metadata": {},
   "source": [
    "**Numpy, a thousand points!**\n",
    "\n",
    "Comment the `%%timeit` magic to plot it latter."
   ]
  },
  {
   "cell_type": "code",
   "execution_count": 28,
   "metadata": {},
   "outputs": [
    {
     "name": "stdout",
     "output_type": "stream",
     "text": [
      "18.7 µs ± 803 ns per loop (mean ± std. dev. of 7 runs, 10000 loops each)\n"
     ]
    }
   ],
   "source": [
    "%%timeit\n",
    "ny = np_m( x )"
   ]
  },
  {
   "cell_type": "markdown",
   "metadata": {},
   "source": [
    "**Sympy, a thousand point!**\n",
    "\n",
    "P.S.: Note that Sympy does not use Numpy or any other library, it is based on pure Python. So, it uses lists, which, by itself, are very slow!"
   ]
  },
  {
   "cell_type": "code",
   "execution_count": 30,
   "metadata": {},
   "outputs": [],
   "source": [
    "x = list(x)"
   ]
  },
  {
   "cell_type": "code",
   "execution_count": 31,
   "metadata": {},
   "outputs": [
    {
     "name": "stdout",
     "output_type": "stream",
     "text": [
      "4.46 s ± 54.8 ms per loop (mean ± std. dev. of 7 runs, 1 loop each)\n"
     ]
    }
   ],
   "source": [
    "%%timeit\n",
    "\n",
    "y = [m.subs({'x': xv}) for xv in x ]"
   ]
  },
  {
   "cell_type": "markdown",
   "metadata": {},
   "source": [
    "Now I think we got the case where it makes the WHOLE difference. Here on my laptop, which is a Dell Inspiron 14 (i7 8º gen) we got about 20.0 micro-seconds on Numpy and 500 mili-seconds on Sympy. Putting these numbers togeter we get\n",
    "\n",
    "$ 500 ms /20.0 \\mu s  \\approx 25.000 !!! $\n",
    "\n",
    "ÔOOOOh... It seems we have a turtle against a rocket! I didn't believe it myself and  had to comment the `%%timeit` magic myself and plot both results to check whether Numpy and Sympy where calculating the same thing... Note that the offset is just to help us visualize the different results!."
   ]
  },
  {
   "cell_type": "code",
   "execution_count": 17,
   "metadata": {},
   "outputs": [
    {
     "data": {
      "text/plain": [
       "[<matplotlib.lines.Line2D at 0x7f63d8f526a0>,\n",
       " <matplotlib.lines.Line2D at 0x7f63d8de02e8>]"
      ]
     },
     "execution_count": 17,
     "metadata": {},
     "output_type": "execute_result"
    },
    {
     "data": {
      "image/png": "[encoded data removed]",
      "text/plain": [
       "<Figure size 432x288 with 1 Axes>"
      ]
     },
     "metadata": {
      "needs_background": "light"
     },
     "output_type": "display_data"
    }
   ],
   "source": [
    "plt.xlabel('x=H/T')\n",
    "plt.ylabel('magnetization')\n",
    "plt.plot(x,y, x, ny+0.1)"
   ]
  },
  {
   "cell_type": "code",
   "execution_count": null,
   "metadata": {},
   "outputs": [],
   "source": []
  }
 ],
 "metadata": {
  "kernelspec": {
   "display_name": "Python 3",
   "language": "python",
   "name": "python3"
  },
  "language_info": {
   "codemirror_mode": {
    "name": "ipython",
    "version": 3
   },
   "file_extension": ".py",
   "mimetype": "text/x-python",
   "name": "python",
   "nbconvert_exporter": "python",
   "pygments_lexer": "ipython3",
   "version": "3.7.2"
  }
 },
 "nbformat": 4,
 "nbformat_minor": 2
}

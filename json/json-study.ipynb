{
 "cells": [
  {
   "cell_type": "markdown",
   "metadata": {},
   "source": [
    "**Using json (Java Script Object Notation) library**\n",
    "\n",
    "Json notation is very similar to Python Dictionary.\n",
    "\n",
    "Basics from  [W3Schools.com](https://www.w3schools.com/python/python_json.asp)"
   ]
  },
  {
   "cell_type": "code",
   "execution_count": 1,
   "metadata": {},
   "outputs": [],
   "source": [
    "import json"
   ]
  },
  {
   "cell_type": "code",
   "execution_count": 7,
   "metadata": {},
   "outputs": [],
   "source": [
    "# Mounting two dictionaries\n",
    "\n",
    "data = dict(name='Marco',surname='Barbosa',age=38,account=-1000, moreinfo=[1,2,3,4,5])\n",
    "\n",
    "more_data = { \n",
    "              'name': 'Victor',\n",
    "              'surname': 'Hugo',\n",
    "              'age': 105,\n",
    "              'account': 0,\n",
    "              'moreinfo': [-1,-2,-3]\n",
    "            }"
   ]
  },
  {
   "cell_type": "code",
   "execution_count": 8,
   "metadata": {},
   "outputs": [],
   "source": [
    "# Dumping it to a string and writting it to file `json_test.txt`\n",
    "\n",
    "data_str = json.dumps( data )\n",
    "more_data_str = json.dumps( more_data )\n",
    "\n",
    "with open('json_test.txt','w') as file:\n",
    "    file.write(data_str)\n",
    "    file.write('\\n')\n",
    "    file.write(more_data_str)\n",
    "    "
   ]
  },
  {
   "cell_type": "code",
   "execution_count": 13,
   "metadata": {},
   "outputs": [],
   "source": [
    "# Reading it the file just generated and assigning its value to a list of dictionaries\n",
    "\n",
    "data_read = []\n",
    "\n",
    "with open('json_test.txt','r') as file:\n",
    "    txt = file.readline()\n",
    "    while txt:\n",
    "        data_read.append( json.loads( txt ) )\n",
    "        txt = file.readline()\n"
   ]
  },
  {
   "cell_type": "code",
   "execution_count": 16,
   "metadata": {},
   "outputs": [
    {
     "data": {
      "text/plain": [
       "(True, True)"
      ]
     },
     "execution_count": 16,
     "metadata": {},
     "output_type": "execute_result"
    }
   ],
   "source": [
    "data_read[0] == data, data_read[1] == more_data"
   ]
  },
  {
   "cell_type": "code",
   "execution_count": null,
   "metadata": {},
   "outputs": [],
   "source": []
  }
 ],
 "metadata": {
  "kernelspec": {
   "display_name": "Python 3",
   "language": "python",
   "name": "python3"
  },
  "language_info": {
   "codemirror_mode": {
    "name": "ipython",
    "version": 3
   },
   "file_extension": ".py",
   "mimetype": "text/x-python",
   "name": "python",
   "nbconvert_exporter": "python",
   "pygments_lexer": "ipython3",
   "version": "3.7.2"
  }
 },
 "nbformat": 4,
 "nbformat_minor": 2
}
